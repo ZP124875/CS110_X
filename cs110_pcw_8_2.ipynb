{
 "cells": [
  {
   "cell_type": "markdown",
   "metadata": {},
   "source": [
    "Before you turn this problem in, make sure everything runs as expected. First, **restart the kernel** (in the menubar, select Kernel$\\rightarrow$Restart) and then **run all cells** (in the menubar, select Cell$\\rightarrow$Run All).\n",
    "\n",
    "Make sure you fill in any place that says `YOUR CODE HERE` or \"YOUR ANSWER HERE\", as well as your name and collaborators below:"
   ]
  },
  {
   "cell_type": "code",
   "execution_count": 1,
   "metadata": {},
   "outputs": [],
   "source": [
    "NAME = \"Evan\"\n",
    "COLLABORATORS = \"\""
   ]
  },
  {
   "cell_type": "markdown",
   "metadata": {},
   "source": [
    "---"
   ]
  },
  {
   "cell_type": "markdown",
   "metadata": {
    "deletable": false,
    "editable": false,
    "nbgrader": {
     "checksum": "c87c76aab5414c691aa63dd316a3aad4",
     "grade": false,
     "grade_id": "cell-856b478addb28fe9",
     "locked": true,
     "schema_version": 1,
     "solution": false
    }
   },
   "source": [
    "# CS110 Pre-class Work 8.2\n",
    "\n",
    "# Question 1. (Exercise 12.2-1, Cormen et al.)\n",
    "\n",
    "Suppose that we have numbers between 1 and 1000 in a binary search tree, and we want to search for the number 363. Which of the following sequences could not be the sequence of nodes examined?\n",
    "\n",
    "a. 2, 252, 401, 398, 330, 344, 397, 363.\n",
    "\n",
    "b. 924, 220, 911, 244, 898, 258, 362, 363.\n",
    "\n",
    "c. 925, 202, 911, 240, 912, 245, 363.\n",
    "\n",
    "d. 2, 399, 387, 219, 266, 382, 381, 278, 363.\n",
    "\n",
    "e. 935, 278, 347, 621, 299, 392, 358, 363.\n"
   ]
  },
  {
   "cell_type": "markdown",
   "metadata": {
    "deletable": false,
    "nbgrader": {
     "checksum": "caad0ddbf7180e6e9f1cf54ef809d5a8",
     "grade": true,
     "grade_id": "cell-4ba31a88562b2669",
     "locked": false,
     "points": 0,
     "schema_version": 1,
     "solution": true
    }
   },
   "source": [
    "c. Could not be the sequence examined because 240 is the left child  of 911, and 912 is the right child of 240, which would not comply with the binary search conditions because 912 is greater than 911, yet it is in its leftward lineage. "
   ]
  },
  {
   "cell_type": "markdown",
   "metadata": {
    "deletable": false,
    "editable": false,
    "nbgrader": {
     "checksum": "2608634a994745e8cabbc68e04197aeb",
     "grade": false,
     "grade_id": "cell-e2fe6a81a328e94e",
     "locked": true,
     "schema_version": 1,
     "solution": false
    }
   },
   "source": [
    "## Question 2. Comparing complexities\n",
    "Complete the following table with the average vs worst case complexities for the data structures in each row.\n",
    "\n",
    "You should copy the following table and paste and edit it in the cell below. \n",
    "\n",
    "Operations | BST | Hash table using open addressing | Min heap\n",
    "--- | --- | --- | ---\n",
    "Search |  |  |\n",
    "Find max |  |  |\n",
    "Find min |  |  |\n",
    "Max extraction  |  |  |\n",
    "Min extraction |  |  |\n",
    "Find successor |  |  |\n",
    "Find predecessor |  |  |\n",
    "Insert |  |  |\n",
    "Delete |  |  |\n",
    "\n"
   ]
  },
  {
   "cell_type": "markdown",
   "metadata": {
    "deletable": false,
    "nbgrader": {
     "checksum": "b333dea7231946830dc83e0374b46384",
     "grade": true,
     "grade_id": "cell-103e7647a8a92a95",
     "locked": false,
     "points": 0,
     "schema_version": 1,
     "solution": true
    }
   },
   "source": [
    "## Question 2. Comparing complexities\n",
    "Complete the following table with the average vs worst case complexities for the data structures in each row.\n",
    "\n",
    "You should copy the following table and paste and edit it in the cell below. \n",
    "\n",
    "Operations | BST | Hash table using open addressing | Min heap\n",
    "--- | --- | --- | ---\n",
    "Search | W(O(log(n)))  B(O(log(n))) | W(O(1)) B(O(1)) | W(O(log(n))) B(O(log(n)))\n",
    "Find max | W(O(n-1)) B(O(log(n))) | W(O(n)) B(O(n)) | W(O(1)) B(O(1))\n",
    "Find min | W(O(n-1)) B(O(log(n))) | W(O(n)) B(O(n)) | W(O(1)) B(O(1))\n",
    "Max extraction  | W(O(log(n))) B(O(1)) | W(O(n)) B(O(n)) | W(O(1)) B(O(1))\n",
    "Min extraction | W(O(log(n))) B(O(1)) | W(O(n)) B(O(n)) | W(O(1)) B(O(1))\n",
    "Find successor | W(O(log(n))) B(O(log(n))) | W(N/A) B(N/A) | W(O(log(n))) B(O(log(n)))\n",
    "Find predecessor | W(O(log(n))) B(O(log(n))) | W(N/A) B(N/A) | W(O(log(n))) B(O(log(n)))\n",
    "Insert | W(O(log(n))) B(O(log(n))) | W(O(1)) B(O(1)) | W(O(log(n))) B(O(1))\n",
    "Delete | W(O(log(n))) B(O(log(n))) | W(O(1)) B(O(1)) | W(O(log(n))) B(O(1))\n",
    "\n"
   ]
  },
  {
   "cell_type": "markdown",
   "metadata": {
    "deletable": false,
    "editable": false,
    "nbgrader": {
     "checksum": "350918858ed77bb73434c159714237a6",
     "grade": false,
     "grade_id": "cell-f0b8945e898ae4eb",
     "locked": true,
     "schema_version": 1,
     "solution": false
    }
   },
   "source": [
    "## Question 3. Programming a recursive BST\n",
    "The code given in the cell below, write python code for the corresponding functions:\n",
    "\n",
    "* function `search(self, value)`: searches a *non-empty* BST rooted at the node for a node with `data=value`, returns the node if found, None otherwise\n",
    "* function `delete(self, value)`: if a node with data = value is present in the tree rooted at Node, deletes that node and returns the root.\n",
    "* function `inorder(self)`: returns a list of all data in the tree rooted at root produced using an in order traversal. When correctly implemented on a BST, the produced list will be sorted in ascending order.\n",
    "\n",
    "You may find it useful to define additional helper functions.\n"
   ]
  },
  {
   "cell_type": "code",
   "execution_count": 2,
   "metadata": {
    "deletable": false,
    "nbgrader": {
     "checksum": "d30a8a11c0dc7730c76d82543f16814f",
     "grade": false,
     "grade_id": "cell-699ae21855637a38",
     "locked": false,
     "schema_version": 1,
     "solution": true
    }
   },
   "outputs": [],
   "source": [
    "## Binary Search Tree\n",
    "##\n",
    "class Node:\n",
    "    def __init__(self, val):\n",
    "        self.l_child = None\n",
    "        self.r_child = None\n",
    "        self.parent = None\n",
    "        self.data = val\n",
    "\n",
    "    def insert(self, node):\n",
    "        \"\"\"inserts a node into a *non-empty* tree rooted at the node, returns\n",
    "        the root\"\"\"\n",
    "        if self.data > node.data:\n",
    "            if self.l_child is None:\n",
    "                self.l_child = node\n",
    "                node.parent = self\n",
    "            else:\n",
    "                self.l_child.insert(node)\n",
    "        else:\n",
    "            if self.r_child is None:\n",
    "                self.r_child = node\n",
    "                node.parent = self\n",
    "            else:\n",
    "                self.r_child.insert(node)\n",
    "        return self\n",
    "    \n",
    "    def minimum(self):\n",
    "        node = self\n",
    "        while node.l_child != None:\n",
    "            node = node.l_child\n",
    "        return node\n",
    "\n",
    "    def search_data(self, value):\n",
    "        \"\"\"searches a *non-empty* tree rooted at the node for a node with\n",
    "        data = value, returns the value if found, None otherwise\"\"\"\n",
    "        node = self.search(value)\n",
    "        if node:\n",
    "            return node.data\n",
    "        else:\n",
    "            return node\n",
    "        \n",
    "    def to_string(self): \n",
    "        print('self.data', self.data)\n",
    "        root=self\n",
    "        if not root: \n",
    "            return 'Nil'\n",
    "        else: \n",
    "            r = root.r_child.to_string() if root.r_child else 'Nil'\n",
    "            l = root.l_child.to_string() if root.l_child else 'Nil'\n",
    "        return 'Node(' + str(root.data) + ' L: ' + l + ' R: ' + r + ')'\n",
    "    # YOUR CODE HERE\n",
    "    def search(self,value):\n",
    "        if value == self.data:\n",
    "            return self\n",
    "        elif value < self.data and self.l_child:\n",
    "            return self.l_child.search(value)\n",
    "        elif value > self.data and self.r_child:\n",
    "            return self.r_child.search(value)\n",
    "        \n",
    "        return None\n",
    "    \n",
    "    \n",
    "    def clear_node(self):\n",
    "        self.l_child = None\n",
    "        self.r_child = None\n",
    "        self.data = None\n",
    "    \n",
    "    def delete(self,value):\n",
    "            \n",
    "        if value < self.data and self.l_child:\n",
    "            return self.l_child.delete(value)\n",
    "        elif value < self.data:\n",
    "            return False\n",
    "        elif value > self.data and self.r_child:\n",
    "            return self.r_child.delete(value)\n",
    "        elif value > self.data:\n",
    "            return False\n",
    "        else:\n",
    "            if self.l_child == None and self.r_child==None and self == self.parent.l_child:\n",
    "                self.parent.l_child = None\n",
    "                self.clear_node()\n",
    "            elif self.l_child is None and self.r_child is None and self == self.parent.r_child:\n",
    "                self.parent.r_child = None\n",
    "                self.clear_node()\n",
    "            elif self.l_child and self.r_child is None and self == self.parent.l_child:\n",
    "                self.parent.l_child = self.l_child\n",
    "                self.clear_node()\n",
    "            elif self.l_child and self.r_child is None and self == self.parent.r_child:\n",
    "                self.parent.r_child = self.l_child\n",
    "                self.clear_node()\n",
    "            elif self.r_child and self.l_child is None and self == self.parent.l_child:\n",
    "                self.parent.l_child = self.r_child\n",
    "                self.clear_node()\n",
    "            elif self.r_child and self.l_child is None and self == self.parent.r_child:\n",
    "                self.parent.r_child = self.r_child\n",
    "                self.clear_node()\n",
    "            else:\n",
    "                self.value = self.r_child.minimum()\n",
    "                self.r_child.delete(self.value)\n",
    "\n",
    "        return True\n",
    "\n",
    "    \n",
    "    def inorder(self):\n",
    "        if self.l_child:\n",
    "            self.l_child.inorder()\n",
    "        \n",
    "        return(self.data)\n",
    "        \n",
    "        if self.r_child:\n",
    "            self.r_child.inorder()\n",
    "        \n",
    "                \n",
    "    def inorder(self):\n",
    "        l=[]\n",
    "        r=[]\n",
    "        \n",
    "        if self.l_child:\n",
    "            l = self.l_child.inorder()\n",
    "        \n",
    "        d = [self.data]\n",
    "        \n",
    "        if self.r_child:\n",
    "            r = self.r_child.inorder()\n",
    "            \n",
    "        return l+d+r   \n",
    "        \n",
    "    #raise NotImplementedError()\n"
   ]
  },
  {
   "cell_type": "markdown",
   "metadata": {
    "deletable": false,
    "editable": false,
    "nbgrader": {
     "checksum": "8b126b45ed170734c6d243dbde6ec892",
     "grade": false,
     "grade_id": "cell-6e99c15ebbccbcff",
     "locked": true,
     "schema_version": 1,
     "solution": false
    }
   },
   "source": [
    "## Question 4. Validating the BST python code\n",
    "\n",
    "### Question 4a.\n",
    "\n",
    "It is good practice to make the necessary tests in your code to ensure it produces the intended outputs. In the cells below, implement slow, but simple:\n",
    "* inserts,\n",
    "* searches,\n",
    "* deletes.\n"
   ]
  },
  {
   "cell_type": "code",
   "execution_count": 3,
   "metadata": {
    "deletable": false,
    "nbgrader": {
     "checksum": "2e246944222ceb6db976ba1af84f791a",
     "grade": false,
     "grade_id": "cell-8ffe02954ab45b77",
     "locked": false,
     "schema_version": 1,
     "solution": true
    }
   },
   "outputs": [],
   "source": [
    "def list_insert(lst, value):\n",
    "    \"\"\"inserts value into lst in sorted order\"\"\"\n",
    "    for i in range(len(list)): #assumes lst comes presorted\n",
    "        if lst[i] > value:\n",
    "            lst.insert(i,value)\n",
    "            return\n",
    "    raise NotImplementedError()\n"
   ]
  },
  {
   "cell_type": "code",
   "execution_count": 4,
   "metadata": {
    "deletable": false,
    "nbgrader": {
     "checksum": "99cadda3119181ec5d6c967d7ea15090",
     "grade": false,
     "grade_id": "cell-0e246c5c19ef7b80",
     "locked": false,
     "schema_version": 1,
     "solution": true
    }
   },
   "outputs": [],
   "source": [
    "def list_delete(lst, value):\n",
    "    \"\"\" deletes first instance of value from lst if it present\"\"\"\n",
    "    for i in range( len(lst)):\n",
    "        if lst[i] == value:\n",
    "            list[i].pop()\n",
    "            return\n",
    "    return\n",
    "    raise NotImplementedError()"
   ]
  },
  {
   "cell_type": "code",
   "execution_count": 5,
   "metadata": {
    "deletable": false,
    "nbgrader": {
     "checksum": "024018f03e113eced89d464c96d522f6",
     "grade": false,
     "grade_id": "cell-f6b55b9878c6fdf1",
     "locked": false,
     "schema_version": 1,
     "solution": true
    }
   },
   "outputs": [],
   "source": [
    "def list_search(lst, value): \n",
    "    \"\"\" searches lst for value and returns value if present, None if it is not present\"\"\"\n",
    "    for i in range (len(lst)):\n",
    "        if lst[i] == value:\n",
    "            return value\n",
    "    return None\n",
    "    raise NotImplementedError()"
   ]
  },
  {
   "cell_type": "markdown",
   "metadata": {
    "deletable": false,
    "editable": false,
    "nbgrader": {
     "checksum": "4b67b5285b803538fc34c696acb4fce3",
     "grade": false,
     "grade_id": "cell-50a5730f995c1ec5",
     "locked": true,
     "schema_version": 1,
     "solution": false
    }
   },
   "source": [
    "### Question 4b. \n",
    "Run the testing code provided in the cell below to generate a sequence of random inserts, followed by a sequence of random deletes, and finally followed by a sequence of random searches. Apply this sequence to both your BST implementation and the sorted list implementation. Do the final results both match? Does this mean your code is free of bugs? Provide your answer to these questions in the cell below the Python-code cell."
   ]
  },
  {
   "cell_type": "code",
   "execution_count": 6,
   "metadata": {},
   "outputs": [
    {
     "name": "stdout",
     "output_type": "stream",
     "text": [
      "###################\n",
      "Inserting the following node:  2\n",
      "self.data 2\n",
      "Node(2 L: Nil R: Nil)\n",
      "###################\n",
      "Inserting the following node:  3\n",
      "self.data 2\n",
      "self.data 3\n",
      "Node(2 L: Nil R: Node(3 L: Nil R: Nil))\n",
      "###################\n",
      "Inserting the following node:  5\n",
      "self.data 2\n",
      "self.data 3\n",
      "self.data 5\n",
      "Node(2 L: Nil R: Node(3 L: Nil R: Node(5 L: Nil R: Nil)))\n",
      "###################\n",
      "Inserting the following node:  1\n",
      "self.data 2\n",
      "self.data 3\n",
      "self.data 5\n",
      "self.data 1\n",
      "Node(2 L: Node(1 L: Nil R: Nil) R: Node(3 L: Nil R: Node(5 L: Nil R: Nil)))\n"
     ]
    }
   ],
   "source": [
    "bst = None # bst is a misnormer, this variable contains the Node that is the root of the BST of interest\n",
    "lst = []\n",
    "\n",
    "my_Nodes = [2, 3, 5, 1]\n",
    "for x in [Node(_) for _ in my_Nodes]:\n",
    "    print(\"###################\")\n",
    "    print('Inserting the following node: ', x.data)\n",
    "    if not bst:\n",
    "        bst = x\n",
    "    else:\n",
    "        bst = bst.insert(x)\n",
    "    print(bst.to_string())"
   ]
  },
  {
   "cell_type": "code",
   "execution_count": 7,
   "metadata": {
    "deletable": false,
    "editable": false,
    "nbgrader": {
     "checksum": "813d6c322f5d9944bdff40f84aa5f4e1",
     "grade": true,
     "grade_id": "cell-ebddd4da79a3da28",
     "locked": true,
     "points": 0,
     "schema_version": 1,
     "solution": false
    }
   },
   "outputs": [
    {
     "name": "stdout",
     "output_type": "stream",
     "text": [
      "Inserting the following node:  7\n",
      "Inserting the following node:  9\n",
      "Inserting the following node:  7\n",
      "Inserting the following node:  3\n",
      "Inserting the following node:  3\n",
      "Inserting the following node:  0\n",
      "Inserting the following node:  8\n",
      "Inserting the following node:  3\n",
      "Inserting the following node:  1\n",
      "Inserting the following node:  4\n",
      "self.data 2\n",
      "self.data 3\n",
      "self.data 5\n",
      "self.data 7\n",
      "self.data 9\n",
      "self.data 7\n",
      "self.data 8\n",
      "self.data 3\n",
      "self.data 3\n",
      "self.data 3\n",
      "self.data 4\n",
      "self.data 1\n",
      "self.data 1\n",
      "self.data 0\n",
      "Node(2 L: Node(1 L: Node(0 L: Nil R: Nil) R: Node(1 L: Nil R: Nil)) R: Node(3 L: Nil R: Node(5 L: Node(3 L: Nil R: Node(3 L: Nil R: Node(3 L: Nil R: Node(4 L: Nil R: Nil)))) R: Node(7 L: Nil R: Node(9 L: Node(7 L: Nil R: Node(8 L: Nil R: Nil)) R: Nil)))))\n",
      "In order traversal:  [0, 1, 1, 2, 3, 3, 3, 3, 4, 5, 7, 7, 8, 9]\n",
      "Look for the following node:  7\n",
      " Node exists, hence removing the Node...\n",
      "Look for the following node:  8\n"
     ]
    },
    {
     "ename": "AttributeError",
     "evalue": "'bool' object has no attribute 'search_data'",
     "output_type": "error",
     "traceback": [
      "\u001b[0;31m---------------------------------------------------------------------------\u001b[0m",
      "\u001b[0;31mAttributeError\u001b[0m                            Traceback (most recent call last)",
      "\u001b[0;32m<ipython-input-7-0fb505d2f351>\u001b[0m in \u001b[0;36m<module>\u001b[0;34m\u001b[0m\n\u001b[1;32m     53\u001b[0m \u001b[0;32mfor\u001b[0m \u001b[0mx\u001b[0m \u001b[0;32min\u001b[0m \u001b[0;34m[\u001b[0m\u001b[0mrandom\u001b[0m\u001b[0;34m.\u001b[0m\u001b[0mrandint\u001b[0m\u001b[0;34m(\u001b[0m\u001b[0;36m0\u001b[0m\u001b[0;34m,\u001b[0m\u001b[0;36m10\u001b[0m\u001b[0;34m)\u001b[0m \u001b[0;32mfor\u001b[0m \u001b[0m_\u001b[0m \u001b[0;32min\u001b[0m \u001b[0mrange\u001b[0m\u001b[0;34m(\u001b[0m\u001b[0;36m4\u001b[0m\u001b[0;34m)\u001b[0m\u001b[0;34m]\u001b[0m\u001b[0;34m:\u001b[0m\u001b[0;34m\u001b[0m\u001b[0;34m\u001b[0m\u001b[0m\n\u001b[1;32m     54\u001b[0m     \u001b[0mprint\u001b[0m\u001b[0;34m(\u001b[0m\u001b[0;34m'Look for the following node: '\u001b[0m\u001b[0;34m,\u001b[0m \u001b[0mx\u001b[0m\u001b[0;34m)\u001b[0m\u001b[0;34m\u001b[0m\u001b[0;34m\u001b[0m\u001b[0m\n\u001b[0;32m---> 55\u001b[0;31m     \u001b[0;32mif\u001b[0m \u001b[0mbst\u001b[0m\u001b[0;34m.\u001b[0m\u001b[0msearch_data\u001b[0m\u001b[0;34m(\u001b[0m\u001b[0mx\u001b[0m\u001b[0;34m)\u001b[0m\u001b[0;34m:\u001b[0m\u001b[0;34m\u001b[0m\u001b[0;34m\u001b[0m\u001b[0m\n\u001b[0m\u001b[1;32m     56\u001b[0m         \u001b[0mprint\u001b[0m\u001b[0;34m(\u001b[0m\u001b[0;34m' Node exists, hence removing the Node...'\u001b[0m\u001b[0;34m)\u001b[0m\u001b[0;34m\u001b[0m\u001b[0;34m\u001b[0m\u001b[0m\n\u001b[1;32m     57\u001b[0m         \u001b[0mbst\u001b[0m \u001b[0;34m=\u001b[0m \u001b[0mbst\u001b[0m\u001b[0;34m.\u001b[0m\u001b[0mdelete\u001b[0m\u001b[0;34m(\u001b[0m\u001b[0mx\u001b[0m\u001b[0;34m)\u001b[0m\u001b[0;34m\u001b[0m\u001b[0;34m\u001b[0m\u001b[0m\n",
      "\u001b[0;31mAttributeError\u001b[0m: 'bool' object has no attribute 'search_data'"
     ]
    }
   ],
   "source": [
    "### Testing Code\n",
    "###\n",
    "\n",
    "import random\n",
    "\n",
    "# bst = None # bst is a misnormer, this variable contains the Node that is the root of the BST of interest\n",
    "# lst = []\n",
    "\n",
    "# # sampling with replacement\n",
    "# for x in [Node(random.randint(0,10)) for _ in range(10)]:\n",
    "#     print('Inserting the following node: ', x.data)\n",
    "#     if not bst:\n",
    "#         bst = x\n",
    "#     else:\n",
    "#         bst.insert(x)\n",
    "#     list_insert(lst, x.data)\n",
    "\n",
    "# print('In order traversal: ', bst.inorder())\n",
    "\n",
    "# for x in [random.randint(0,10) for _ in range(4)]:\n",
    "#     print('Look for the following node: ', x)\n",
    "#     if bst.search_data(x):\n",
    "#         print(' Node exists, hence removing the Node...')\n",
    "#         bst = bst.delete(x)\n",
    "#     else:\n",
    "#         print(' Node does not exist and cannot be removed!')\n",
    "#     if list_search(lst, x):\n",
    "#         print(' Element exists in list, hence removing it...!')\n",
    "#         list_delete(lst,x)\n",
    "#     else:\n",
    "#         print(' Element does not exist in list, and cannot be removed!')\n",
    "\n",
    "# print('In order traversal of final BST: ', bst.inorder())\n",
    "# print('Final list: ', lst)\n",
    "\n",
    "\n",
    "\n",
    "\n",
    "\n",
    "# variable contains the Node that is the root of the BST of interest\n",
    "lst = []\n",
    "\n",
    "# sampling with replacement\n",
    "for x in [Node(random.randint(0,10)) for _ in range(10)]:\n",
    "    print('Inserting the following node: ', x.data)\n",
    "    if not bst:\n",
    "        bst = x\n",
    "    else:\n",
    "        bst.insert(x)\n",
    "print(bst.to_string())\n",
    "print('In order traversal: ', bst.inorder())\n",
    "\n",
    "for x in [random.randint(0,10) for _ in range(4)]:\n",
    "    print('Look for the following node: ', x)\n",
    "    if bst.search_data(x):\n",
    "        print(' Node exists, hence removing the Node...')\n",
    "        bst = bst.delete(x)\n",
    "    else:\n",
    "        print(' Node does not exist and cannot be removed!')\n",
    "print(bst.to_string())\n",
    "\n",
    "\n",
    "print('In order traversal of final BST: ', bst.inorder())\n",
    "print('Final list: ', lst)\n",
    "\n"
   ]
  },
  {
   "cell_type": "markdown",
   "metadata": {
    "deletable": false,
    "nbgrader": {
     "checksum": "11743c20bdd473ed59d8b90c514f6176",
     "grade": true,
     "grade_id": "cell-1af64135f3359698",
     "locked": false,
     "points": 0,
     "schema_version": 1,
     "solution": true
    }
   },
   "source": [
    "YOUR ANSWER HERE"
   ]
  },
  {
   "cell_type": "code",
   "execution_count": null,
   "metadata": {},
   "outputs": [],
   "source": []
  },
  {
   "cell_type": "code",
   "execution_count": null,
   "metadata": {},
   "outputs": [],
   "source": []
  }
 ],
 "metadata": {
  "kernelspec": {
   "display_name": "Python 3",
   "language": "python",
   "name": "python3"
  },
  "language_info": {
   "codemirror_mode": {
    "name": "ipython",
    "version": 3
   },
   "file_extension": ".py",
   "mimetype": "text/x-python",
   "name": "python",
   "nbconvert_exporter": "python",
   "pygments_lexer": "ipython3",
   "version": "3.7.4"
  }
 },
 "nbformat": 4,
 "nbformat_minor": 4
}
