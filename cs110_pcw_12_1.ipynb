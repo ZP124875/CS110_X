{
 "cells": [
  {
   "cell_type": "markdown",
   "metadata": {},
   "source": [
    "Before you turn this problem in, make sure everything runs as expected. First, **restart the kernel** (in the menubar, select Kernel$\\rightarrow$Restart) and then **run all cells** (in the menubar, select Cell$\\rightarrow$Run All).\n",
    "\n",
    "Make sure you fill in any place that says `YOUR CODE HERE` or \"YOUR ANSWER HERE\", as well as your name and collaborators below:"
   ]
  },
  {
   "cell_type": "code",
   "execution_count": null,
   "metadata": {},
   "outputs": [],
   "source": [
    "NAME = \"Evan\"\n",
    "COLLABORATORS = \"\""
   ]
  },
  {
   "cell_type": "markdown",
   "metadata": {},
   "source": [
    "---"
   ]
  },
  {
   "cell_type": "markdown",
   "metadata": {
    "deletable": false,
    "editable": false,
    "nbgrader": {
     "checksum": "0f21ce4c9e01aa6a231ae85c9319acf3",
     "grade": false,
     "grade_id": "cell-f49515decdd20fa1",
     "locked": true,
     "schema_version": 1,
     "solution": false
    }
   },
   "source": [
    "# CS110 Pre-class Work 12.1\n",
    "\n",
    "## Question 1.\n",
    "Define the `enqueue(self, x)` and `dequeue(self)` methods of the class `Queue` below, by modifying the cell. You do not need to include the error checking for underflow and overflow. You can follow the pseudo-codes on p.235, Cormen et al. to complete this task."
   ]
  },
  {
   "cell_type": "code",
   "execution_count": null,
   "metadata": {
    "deletable": false,
    "nbgrader": {
     "checksum": "7e29f9d49b8f1ac6d8a416278c338aaa",
     "grade": false,
     "grade_id": "cell-ebbe229b0421e86e",
     "locked": false,
     "schema_version": 1,
     "solution": true
    }
   },
   "outputs": [],
   "source": [
    "class Queue(object):\n",
    "    def __init__(self, length):\n",
    "        self.length = length\n",
    "        self.head = 1\n",
    "        self.tail = 1\n",
    "        self.q = {}\n",
    "        for i in range(1, self.length+1):\n",
    "            self.q[i] = None\n",
    "    \n",
    "    def enqueue(self,x):\n",
    "        self.q[self.tail] = x\n",
    "        if self.tail == self.length:\n",
    "            self.tail = 1\n",
    "        else:\n",
    "            self.tail = self.tail + 1\n",
    "        \n",
    "        \n",
    "    def dequeue(self):\n",
    "        x = self.q[self.head] \n",
    "        if self.head == self.length:\n",
    "            self.head = 1\n",
    "        else:\n",
    "            self.head = self.head + 1\n",
    "        return x \n",
    "        \n",
    "    \n",
    "    # YOUR CODE HERE\n",
    "    \n",
    "    #raise NotImplementedError()"
   ]
  },
  {
   "cell_type": "markdown",
   "metadata": {
    "deletable": false,
    "editable": false,
    "nbgrader": {
     "checksum": "70c402b90b1c8213eaf69a116c0a3c45",
     "grade": false,
     "grade_id": "cell-9e685a1fdf0e1bf6",
     "locked": true,
     "schema_version": 1,
     "solution": false
    }
   },
   "source": [
    "## Question 2. \n",
    "\n",
    "Below, the first cell is a working code for two classes, `Node` and `Graph` that can be used to represent undirected or directed graphs. Use these two classes to complete the function `bfs` that implements the breath-first search algorithm in the second cell."
   ]
  },
  {
   "cell_type": "code",
   "execution_count": null,
   "metadata": {
    "deletable": false,
    "editable": false,
    "nbgrader": {
     "checksum": "67f0f9b0f8b0039c23ed185490e394fb",
     "grade": false,
     "grade_id": "cell-2dfede3b8a3adb96",
     "locked": true,
     "schema_version": 1,
     "solution": false
    }
   },
   "outputs": [],
   "source": [
    "class Node: \n",
    "    \n",
    "    BLACK = 'B'\n",
    "    GRAY = 'G'\n",
    "    WHITE = 'W'\n",
    "    \n",
    "    def __init__(self, name, adj_list=None, weighted_adj_list=None): \n",
    "        self.name = name\n",
    "        self.color = Node.WHITE\n",
    "        self.pi = None\n",
    "        self.dist = float('inf')\n",
    "        self.adj_list = adj_list\n",
    "        if not adj_list: \n",
    "            self.adj_list = []\n",
    "        \n",
    "    def add_edge(self, node): \n",
    "        if node.name not in self.adj_list: \n",
    "            self.adj_list.append(node.name)\n",
    "        \n",
    "    def remove_edge(self, node): \n",
    "        self.adj_list.remove(node.name)\n",
    "        \n",
    "    def to_string(self): \n",
    "        res = self.name + ': [' + ' '.join(self.adj_list) + '] color: ' + self.color + ' dist: ' + str(self.dist)\n",
    "        if not self.pi:\n",
    "            res += ' pi: Nil'\n",
    "        else: \n",
    "            res += ' pi: ' + self.pi\n",
    "        return res\n",
    "\n",
    "class Graph: \n",
    "    \n",
    "    def __init__(self, nodes={}): \n",
    "        self.nodes = nodes\n",
    "        \n",
    "    def add_node(self,node): \n",
    "        self.nodes[node.name] = node\n",
    "        \n",
    "    def add_edge(self,n1,n2): \n",
    "        self.nodes[n1].add_edge(self.nodes[n2])\n",
    "        \n",
    "    def remove_edge(self, n1, n2): \n",
    "        self.nodes[n1].remove_edge(self.nodes[n2])\n",
    "        \n",
    "    def to_string(self): \n",
    "        res = \"\"\n",
    "        for n in self.nodes.keys(): \n",
    "            res += self.nodes[n].to_string() + \",\\n\"\n",
    "        return res\n",
    "      \n",
    "g = Graph({})\n",
    "g.add_node(Node('r', ['s','v']))\n",
    "g.add_node(Node('s', ['r','w']))\n",
    "g.add_node(Node('t', ['w','x','u']))\n",
    "g.add_node(Node('u', ['t','x','y']))\n",
    "g.add_node(Node('v', ['r']))\n",
    "g.add_node(Node('w', ['s','t','x']))\n",
    "g.add_node(Node('x', ['w','t','u','y']))\n",
    "g.add_node(Node('y', ['u','x']))\n",
    "\n",
    "print(g.to_string())"
   ]
  },
  {
   "cell_type": "code",
   "execution_count": null,
   "metadata": {
    "deletable": false,
    "nbgrader": {
     "checksum": "760f180f167347b70d63a81bd97bdc00",
     "grade": false,
     "grade_id": "cell-79459bfd60700881",
     "locked": false,
     "schema_version": 1,
     "solution": true
    }
   },
   "outputs": [],
   "source": [
    "def bfs(G,s):\n",
    "    \"\"\"\n",
    "    Breath-first search\n",
    "    \n",
    "    Inputs:\n",
    "    - G: a graph (instance of Graph)\n",
    "    - s: string, name of the source vertex which is an instance of Node\n",
    "    \n",
    "    Output:\n",
    "    - info: string, what is returned by G.to_string()\n",
    "    \"\"\"\n",
    "    for vertex in G.nodes:\n",
    "        G.nodes[vertex].color = 'W'\n",
    "        G.nodes[vertex].d = float('inf')\n",
    "        G.nodes[vertex].pi = None\n",
    "    \n",
    "    G.nodes[s].color = 'G'\n",
    "    G.nodes[s].d = 0\n",
    "    G.nodes[s].pi = None\n",
    "    Q = Queue(5000)\n",
    "    Q.enqueue(s)\n",
    "    while Q.head != Q.tail:\n",
    "        u = Q.dequeue()\n",
    "        for v in G.nodes[u].adj_list:\n",
    "            if G.nodes[v].color == 'W':\n",
    "                G.nodes[v].color = 'G'\n",
    "                G.nodes[v].d = G.nodes[u].d +1\n",
    "                G.nodes[v].pi = G.nodes[u].name\n",
    "                Q.enqueue(v)\n",
    "        G.nodes[u].color = 'B'\n",
    "    \n",
    "    return G.to_string()\n",
    "    \n",
    "    # YOUR CODE HERE\n",
    "    #raise NotImplementedError()"
   ]
  },
  {
   "cell_type": "markdown",
   "metadata": {
    "deletable": false,
    "editable": false,
    "nbgrader": {
     "checksum": "39083ef10d9964de5fedd745ae0216a1",
     "grade": false,
     "grade_id": "cell-df5e25eea74070b9",
     "locked": true,
     "schema_version": 1,
     "solution": false
    }
   },
   "source": [
    "## Question 3.\n",
    "\n",
    "Solve exercise 22.2-1 in Cormen et al. by following these steps:\n",
    "1. Build a graph G that represents the graph in Figure 22.2-(a). The names of the vertices are noted in each vertex (1, 2, 3, 4, 5, and 6)\n",
    "2. Print the info returned by `bfs`"
   ]
  },
  {
   "cell_type": "code",
   "execution_count": 7,
   "metadata": {
    "deletable": false,
    "nbgrader": {
     "checksum": "b0d6e287db54e8c0cc714362ffdb21ef",
     "grade": true,
     "grade_id": "cell-692a09a756ecaa40",
     "locked": false,
     "points": 0,
     "schema_version": 1,
     "solution": true
    }
   },
   "outputs": [
    {
     "name": "stdout",
     "output_type": "stream",
     "text": [
      "1: [2 4] color: W dist: inf pi: Nil,\n",
      "2: [5] color: B dist: inf pi: 4,\n",
      "3: [5 6] color: B dist: inf pi: Nil,\n",
      "4: [2] color: B dist: inf pi: 5,\n",
      "5: [4] color: B dist: inf pi: 3,\n",
      "6: [6] color: B dist: inf pi: 3,\n",
      "\n"
     ]
    }
   ],
   "source": [
    "G = Graph({})\n",
    "G.add_node(Node('1', ['2','4']))\n",
    "G.add_node(Node('2', ['5']))\n",
    "G.add_node(Node('3', ['5','6']))\n",
    "G.add_node(Node('4', ['2']))\n",
    "G.add_node(Node('5', ['4']))\n",
    "G.add_node(Node('6', ['6']))\n",
    "print(bfs(G,'3'))"
   ]
  },
  {
   "cell_type": "markdown",
   "metadata": {
    "deletable": false,
    "editable": false,
    "nbgrader": {
     "checksum": "e383fc84bbdac7b0911f3d6f17c80a34",
     "grade": false,
     "grade_id": "cell-71c8b5ed8faa8e34",
     "locked": true,
     "schema_version": 1,
     "solution": false
    }
   },
   "source": [
    "## Question 4.\n",
    "Solve exercise 22.2-2 in Cormen et al. by following these steps:\n",
    "1. Build a graph G that represents the graph in Figure 22.3-(a). Note that the names of the vertices are given as `r`, `x`, `t`, `u`, etc.\n",
    "2. Print the info returned by `bfs`"
   ]
  },
  {
   "cell_type": "code",
   "execution_count": 9,
   "metadata": {
    "deletable": false,
    "nbgrader": {
     "checksum": "c977a39ba030c39d3fba8cc1ca0d5dfe",
     "grade": true,
     "grade_id": "cell-eccd2dcb9f2eec18",
     "locked": false,
     "points": 0,
     "schema_version": 1,
     "solution": true
    }
   },
   "outputs": [
    {
     "name": "stdout",
     "output_type": "stream",
     "text": [
      "r: [s v] color: B dist: inf pi: s,\n",
      "s: [r w] color: B dist: inf pi: Nil,\n",
      "t: [w x u] color: B dist: inf pi: w,\n",
      "u: [t x y] color: B dist: inf pi: x,\n",
      "v: [r] color: B dist: inf pi: r,\n",
      "w: [x t s] color: B dist: inf pi: s,\n",
      "x: [w t u] color: B dist: inf pi: w,\n",
      "y: [u x] color: B dist: inf pi: u,\n",
      "\n"
     ]
    }
   ],
   "source": [
    "G = Graph({})\n",
    "G.add_node(Node('r', ['s','v']))\n",
    "G.add_node(Node('s', ['r','w']))\n",
    "G.add_node(Node('t', ['w','x','u']))\n",
    "G.add_node(Node('u', ['t','x','y']))\n",
    "G.add_node(Node('v', ['r']))\n",
    "G.add_node(Node('w', ['x','t','s']))\n",
    "G.add_node(Node('x', ['w','t','u']))\n",
    "G.add_node(Node('y', ['u','x']))\n",
    "print(bfs(G,'s'))"
   ]
  },
  {
   "cell_type": "markdown",
   "metadata": {
    "deletable": false,
    "editable": false,
    "nbgrader": {
     "checksum": "5a09e4cae5de3aec672714362e8b27d2",
     "grade": false,
     "grade_id": "cell-aae6917929e609dd",
     "locked": true,
     "schema_version": 1,
     "solution": false
    }
   },
   "source": [
    "## Question 5.\n",
    "Is the shortest path problem in an undirected graph suitable for a dynamic programming solution? Why or why not?\n"
   ]
  },
  {
   "cell_type": "markdown",
   "metadata": {
    "deletable": false,
    "nbgrader": {
     "checksum": "4ce458227450628bf1c354006e74dc8d",
     "grade": true,
     "grade_id": "cell-e0446af225564643",
     "locked": false,
     "points": 0,
     "schema_version": 1,
     "solution": true
    }
   },
   "source": [
    "Yes, it is suitable for dyanamic programmming because there are overlapping subproblems. The shortest path of intermediary nodes will be usable to determine the shortest path without going through all of the possible paths. "
   ]
  },
  {
   "cell_type": "markdown",
   "metadata": {
    "deletable": false,
    "editable": false,
    "nbgrader": {
     "checksum": "f9a675e4875e995f261285d322e59ac2",
     "grade": false,
     "grade_id": "cell-bc2f4b735ce6608d",
     "locked": true,
     "schema_version": 1,
     "solution": false
    }
   },
   "source": [
    "## Question 6. \n",
    "Answer in prose what changes need to be made to the graph representation to incorporate the concept of edge weights."
   ]
  },
  {
   "cell_type": "markdown",
   "metadata": {
    "deletable": false,
    "nbgrader": {
     "checksum": "29d70dd6835f376857472704851c81f0",
     "grade": true,
     "grade_id": "cell-a9d4e31b797ed485",
     "locked": false,
     "points": 0,
     "schema_version": 1,
     "solution": true
    }
   },
   "source": [
    "In order to incorporate edge weights, we can create another attribute that parallels the adj_list with edge_weights and initialize it accordingly. "
   ]
  }
 ],
 "metadata": {
  "kernelspec": {
   "display_name": "Python 3",
   "language": "python",
   "name": "python3"
  },
  "language_info": {
   "codemirror_mode": {
    "name": "ipython",
    "version": 3
   },
   "file_extension": ".py",
   "mimetype": "text/x-python",
   "name": "python",
   "nbconvert_exporter": "python",
   "pygments_lexer": "ipython3",
   "version": "3.7.4"
  }
 },
 "nbformat": 4,
 "nbformat_minor": 4
}
