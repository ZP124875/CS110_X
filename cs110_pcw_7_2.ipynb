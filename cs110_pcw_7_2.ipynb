{
 "cells": [
  {
   "cell_type": "markdown",
   "metadata": {},
   "source": [
    "Before you turn this problem in, make sure everything runs as expected. First, **restart the kernel** (in the menubar, select Kernel$\\rightarrow$Restart) and then **run all cells** (in the menubar, select Cell$\\rightarrow$Run All).\n",
    "\n",
    "Make sure you fill in any place that says `YOUR CODE HERE` or \"YOUR ANSWER HERE\", as well as your name and collaborators below:"
   ]
  },
  {
   "cell_type": "code",
   "execution_count": null,
   "metadata": {},
   "outputs": [],
   "source": [
    "NAME = \"Evan\"\n",
    "COLLABORATORS = \"\""
   ]
  },
  {
   "cell_type": "markdown",
   "metadata": {},
   "source": [
    "---"
   ]
  },
  {
   "cell_type": "markdown",
   "metadata": {
    "deletable": false,
    "editable": false,
    "nbgrader": {
     "checksum": "2843e94073cad72d7107eb55b3f5d153",
     "grade": false,
     "grade_id": "cell-5b237cc13279b029",
     "locked": true,
     "schema_version": 1,
     "solution": false
    }
   },
   "source": [
    "# CS110 Pre-class Work 7.2\n",
    "\n",
    "## Part A. Direct Address Tables\n",
    "As the first step in setting up a crossword solving algorithm you need to create 2 direct address tables, one to store all the “up” answers-whether correct or not-and one to store all the “across” answers. Write python code to create a direct address table that allows you to:\n",
    "\n",
    "1. initialize N empty guesses\n",
    "2. set a guess for the i-th entry\n",
    "3. clear an incorrect guess for the i-th entry\n"
   ]
  },
  {
   "cell_type": "code",
   "execution_count": 13,
   "metadata": {
    "deletable": false,
    "nbgrader": {
     "checksum": "69e5d714c7245702b8732209ea0b2b42",
     "grade": true,
     "grade_id": "cell-d8d2e3c1b136cdb9",
     "locked": false,
     "points": 0,
     "schema_version": 1,
     "solution": true
    }
   },
   "outputs": [],
   "source": [
    "def initialize_guesses(n):\n",
    "    return [[]]*n\n",
    "    \n",
    "def guess(lst,i,guess):\n",
    "    lst[i]=guess\n",
    "    return lst\n",
    "\n",
    "def clear(lst,i):\n",
    "    lst[i] = []\n",
    "    return lst\n",
    "\n",
    "    raise NotImplementedError()"
   ]
  },
  {
   "cell_type": "code",
   "execution_count": 14,
   "metadata": {},
   "outputs": [
    {
     "name": "stdout",
     "output_type": "stream",
     "text": [
      "[[], [], [], [], [], [], [], [], [], []]\n",
      "[[], [], [], 'Banana', [], [], [], [], [], []]\n",
      "[[], [], [], [], [], [], [], [], [], []]\n"
     ]
    }
   ],
   "source": [
    "lst = initialize_guesses(10)\n",
    "print(lst)\n",
    "guess(lst,3,\"Banana\")\n",
    "print(lst)\n",
    "clear(lst,3)\n",
    "print(lst)"
   ]
  },
  {
   "cell_type": "markdown",
   "metadata": {
    "deletable": false,
    "editable": false,
    "nbgrader": {
     "checksum": "cdb562114e50f9ce1c97be3536b59efa",
     "grade": false,
     "grade_id": "cell-b27891b3ff16f730",
     "locked": true,
     "schema_version": 1,
     "solution": false
    }
   },
   "source": [
    "## Part B. Social Security\n",
    "\n",
    "Could we use a direct address table to store a country's entire set of social security numbers (aka id numbers)? Why or why not?\n"
   ]
  },
  {
   "cell_type": "markdown",
   "metadata": {
    "deletable": false,
    "nbgrader": {
     "checksum": "7b193e66cbea5bd9dac131a3d6adfefa",
     "grade": true,
     "grade_id": "cell-e751647d9af78c11",
     "locked": false,
     "points": 0,
     "schema_version": 1,
     "solution": true
    }
   },
   "source": [
    "We could use a direct address table to store an entire set of SS #'s, it may not be efficient, but it is as simple as creating a full list of of the numbers. "
   ]
  },
  {
   "cell_type": "markdown",
   "metadata": {
    "deletable": false,
    "editable": false,
    "nbgrader": {
     "checksum": "35f74a7f882cabb36df7ee2c43ee51db",
     "grade": false,
     "grade_id": "cell-cba2028918eea1fd",
     "locked": true,
     "schema_version": 1,
     "solution": false
    }
   },
   "source": [
    "## Part C. Chained Hash-table\n",
    "\n",
    "## Question 1.\n",
    "\n",
    "Using the code in the cell below, complete the missing sections of code. You should copy and paste the code in an additional cell and fill in the code there."
   ]
  },
  {
   "cell_type": "code",
   "execution_count": null,
   "metadata": {
    "deletable": false,
    "editable": false,
    "nbgrader": {
     "checksum": "ffc1d9c145de9e5c52f96dfdc8a66fe2",
     "grade": false,
     "grade_id": "cell-9e41d88b035338f4",
     "locked": true,
     "schema_version": 1,
     "solution": false
    }
   },
   "outputs": [],
   "source": [
    "import random\n",
    "import string\n",
    "\n",
    "\n",
    "def randomword(length):\n",
    "    return ''.join(random.choice(string.ascii_lowercase) for i in range(length))\n",
    "\n",
    "\n",
    "def empty_hash_table(N):\n",
    "    return [[] for n in range(N)]\n",
    "\n",
    "\n",
    "def add_to_hash_table(hash_table, item, hash_function):\n",
    "    N = len(hash_table)\n",
    "    # Your code here\n",
    "    return hash_table\n",
    "\n",
    "\n",
    "def contains(hash_table, item, hash_function):\n",
    "    N = len(hash_table)\n",
    "    # Your code here\n",
    "    # return true if the item has already been stored in the hash_table\n",
    "\n",
    "\n",
    "def remove(hash_table, item, hash_function):\n",
    "    if not contains(hash_table, item, hash_function):\n",
    "        raise ValueError()\n",
    "    # Your code here\n",
    "    return hash_table\n",
    "\n",
    "\n",
    "def hash_str1(string):\n",
    "    ans = 0\n",
    "    for chr in string:\n",
    "        ans += ord(chr)\n",
    "    return ans\n",
    "\n",
    "def hash_str2(string):\n",
    "    ans=int(ord(string[0]))\n",
    "    for ix in range(1, len(string)):\n",
    "        ans = ans ^ ord(string[ix]) \n",
    "    return int(bin(ans).split('b')[1])\n",
    "\n",
    "\n",
    "def hash_str3(string):\n",
    "    ans = 0\n",
    "    for chr in string:\n",
    "        ans = ans * 128 + ord(chr)\n",
    "    return ans\n",
    "\n",
    "\n",
    "def hash_str4(string):\n",
    "    random.seed(ord(string[0]))\n",
    "    return random.getrandbits(32)"
   ]
  },
  {
   "cell_type": "code",
   "execution_count": 16,
   "metadata": {
    "deletable": false,
    "nbgrader": {
     "checksum": "b39c1af2de8a4581d16a2d630fcaac74",
     "grade": true,
     "grade_id": "cell-1b6cc6df105c101f",
     "locked": false,
     "points": 0,
     "schema_version": 1,
     "solution": true
    }
   },
   "outputs": [],
   "source": [
    "import random\n",
    "import string\n",
    "\n",
    "\n",
    "def randomword(length):\n",
    "    return ''.join(random.choice(string.ascii_lowercase) for i in range(length))\n",
    "\n",
    "\n",
    "def empty_hash_table(N):\n",
    "    return [[] for n in range(N)]\n",
    "\n",
    "\n",
    "def add_to_hash_table(hash_table, item, hash_function):\n",
    "    N = len(hash_table)\n",
    "    # Your code here\n",
    "    k=hash_function(item)%N\n",
    "    hash_table[k].append(item)\n",
    "    return hash_table\n",
    "\n",
    "\n",
    "def contains(hash_table, item, hash_function):\n",
    "    N = len(hash_table)\n",
    "    # Your code here\n",
    "    # return true if the item has already been stored in the hash_table\n",
    "    k = hash_function(item)%N\n",
    "    if item in hash_table[k]:\n",
    "        return True\n",
    "    else:\n",
    "        return False\n",
    "\n",
    "\n",
    "def remove(hash_table, item, hash_function):\n",
    "    if not contains(hash_table, item, hash_function):\n",
    "        raise ValueError()\n",
    "    # Your code here\n",
    "    \n",
    "    return hash_table\n",
    "\n",
    "\n",
    "def hash_str1(string):\n",
    "    ans = 0\n",
    "    for chr in string:\n",
    "        ans += ord(chr)\n",
    "    return ans\n",
    "\n",
    "\n",
    "def hash_str2(string):\n",
    "    ans=int(ord(string[0]))\n",
    "    for ix in range(1, len(string)):\n",
    "        ans = ans ^ ord(string[ix]) \n",
    "    return int(bin(ans).split('b')[1])\n",
    "\n",
    "\n",
    "def hash_str3(string):\n",
    "    ans = 0\n",
    "    for chr in string:\n",
    "        ans = ans * 128 + ord(chr)\n",
    "    return ans\n",
    "\n",
    "\n",
    "def hash_str4(string):\n",
    "    random.seed(ord(string[0]))\n",
    "    return random.getrandbits(32)\n",
    "\n",
    "\n",
    "    raise NotImplementedError()"
   ]
  },
  {
   "cell_type": "markdown",
   "metadata": {
    "deletable": false,
    "editable": false,
    "nbgrader": {
     "checksum": "d323c68243f6d1fe79cbf5ad01ee85ae",
     "grade": false,
     "grade_id": "cell-66fb150dd2e509a7",
     "locked": true,
     "schema_version": 1,
     "solution": false
    }
   },
   "source": [
    "## Question 2.\n",
    "Using the code, create 100,000 words of 10 characters each.\n"
   ]
  },
  {
   "cell_type": "code",
   "execution_count": 18,
   "metadata": {
    "deletable": false,
    "nbgrader": {
     "checksum": "b9d2f1faad23eecd6f3691968bb4e455",
     "grade": true,
     "grade_id": "cell-234b1e83c871ddc7",
     "locked": false,
     "points": 0,
     "schema_version": 1,
     "solution": true
    }
   },
   "outputs": [],
   "source": [
    "words = []\n",
    "\n",
    "for i in range(100000):\n",
    "    words.append(randomword(10))\n",
    "    \n",
    "#raise NotImplementedError()"
   ]
  },
  {
   "cell_type": "markdown",
   "metadata": {
    "deletable": false,
    "editable": false,
    "nbgrader": {
     "checksum": "190e7fdc00fc311f5ff32a390fff1ca4",
     "grade": false,
     "grade_id": "cell-2fbadca52cec7230",
     "locked": true,
     "schema_version": 1,
     "solution": false
    }
   },
   "source": [
    "## Question 3.\n",
    "\n",
    "Create four chained hash-tables with 5000 slots."
   ]
  },
  {
   "cell_type": "code",
   "execution_count": 44,
   "metadata": {
    "deletable": false,
    "nbgrader": {
     "checksum": "0d1473300ae336ceb57d11687ab3ec0a",
     "grade": true,
     "grade_id": "cell-2dabefc41493ec16",
     "locked": false,
     "points": 0,
     "schema_version": 1,
     "solution": true
    }
   },
   "outputs": [],
   "source": [
    "# YOUR CODE HERE\n",
    "htable1= empty_hash_table(5000)\n",
    "htable2= empty_hash_table(5000)\n",
    "htable3= empty_hash_table(5000)\n",
    "htable4= empty_hash_table(5000)\n",
    "\n",
    "\n",
    "\n",
    "    \n",
    "\n",
    "    #raise NotImplementedError()"
   ]
  },
  {
   "cell_type": "code",
   "execution_count": null,
   "metadata": {},
   "outputs": [],
   "source": []
  },
  {
   "cell_type": "markdown",
   "metadata": {
    "deletable": false,
    "editable": false,
    "nbgrader": {
     "checksum": "c3d147917ae237a6dc75eddab48dbaa6",
     "grade": false,
     "grade_id": "cell-cc2e6d00330e691e",
     "locked": true,
     "schema_version": 1,
     "solution": false
    }
   },
   "source": [
    "## Question 4.\n",
    "\n",
    "Store all the words in each chained hash table using each of the different hash functions."
   ]
  },
  {
   "cell_type": "code",
   "execution_count": 45,
   "metadata": {
    "deletable": false,
    "nbgrader": {
     "checksum": "af209dceb17bf5f8d9fadf0808855f79",
     "grade": true,
     "grade_id": "cell-8a08ade8d45590a7",
     "locked": false,
     "points": 0,
     "schema_version": 1,
     "solution": true
    }
   },
   "outputs": [],
   "source": [
    "# YOUR CODE HERE\n",
    "for i in range(100000):\n",
    "    add_to_hash_table(htable1,words[i],hash_str1)\n",
    "    add_to_hash_table(htable2,words[i],hash_str2)\n",
    "    add_to_hash_table(htable3,words[i],hash_str3)\n",
    "    add_to_hash_table(htable4,words[i],hash_str4)\n",
    "\n",
    "#raise NotImplementedError()"
   ]
  },
  {
   "cell_type": "code",
   "execution_count": 60,
   "metadata": {},
   "outputs": [
    {
     "data": {
      "text/plain": [
       "23"
      ]
     },
     "execution_count": 60,
     "metadata": {},
     "output_type": "execute_result"
    }
   ],
   "source": [
    "words[1]\n",
    "hash_str3('dggzsmpfsv')%len(htable3)\n",
    "len(htable3[2086])"
   ]
  },
  {
   "cell_type": "markdown",
   "metadata": {
    "deletable": false,
    "editable": false,
    "nbgrader": {
     "checksum": "858437d142a66b825fb0bebdb1c4d9fe",
     "grade": false,
     "grade_id": "cell-da2c8b42618fbde4",
     "locked": true,
     "schema_version": 1,
     "solution": false
    }
   },
   "source": [
    "## Question 5.\n",
    "\n",
    "Measure the number of collisions for each hash function."
   ]
  },
  {
   "cell_type": "code",
   "execution_count": 48,
   "metadata": {
    "deletable": false,
    "nbgrader": {
     "checksum": "156f57bc1c6c1a3e10ca1804aa205099",
     "grade": true,
     "grade_id": "cell-a968f9e14a0416c4",
     "locked": false,
     "points": 0,
     "schema_version": 1,
     "solution": true
    }
   },
   "outputs": [
    {
     "name": "stdout",
     "output_type": "stream",
     "text": [
      "Collisions in hash table 1: 99816\n",
      "Collisions in hash table 2: 99984\n",
      "Collisions in hash table 3: 95000\n",
      "Collisions in hash table 4: 99974\n"
     ]
    }
   ],
   "source": [
    "# YOUR CODE HERE\n",
    "\n",
    "def count_collisions(htable):\n",
    "    collisions = 0\n",
    "    for i in range(len(htable)):\n",
    "        if len(htable[i])>1:\n",
    "            collisions += len(htable[i])-1\n",
    "    return collisions\n",
    "\n",
    "print(\"Collisions in hash table 1:\", count_collisions(htable1))\n",
    "print(\"Collisions in hash table 2:\", count_collisions(htable2))\n",
    "print(\"Collisions in hash table 3:\", count_collisions(htable3))\n",
    "print(\"Collisions in hash table 4:\", count_collisions(htable4))\n",
    "\n",
    "  #  raise NotImplementedError()"
   ]
  },
  {
   "cell_type": "markdown",
   "metadata": {
    "deletable": false,
    "editable": false,
    "nbgrader": {
     "checksum": "ef47cabb10897284ca375490003e6b3d",
     "grade": false,
     "grade_id": "cell-435ba1cfb2d80447",
     "locked": true,
     "schema_version": 1,
     "solution": false
    }
   },
   "source": [
    "## Question 6.\n",
    "\n",
    "For each of the hash functions, how many elements are in a bucket on average (if it is not empty)?\n"
   ]
  },
  {
   "cell_type": "code",
   "execution_count": 61,
   "metadata": {
    "deletable": false,
    "nbgrader": {
     "checksum": "9f77d346c6e5ffbfb92ac0707c3c1d72",
     "grade": true,
     "grade_id": "cell-b4052afa2ee7c702",
     "locked": false,
     "points": 0,
     "schema_version": 1,
     "solution": true
    }
   },
   "outputs": [
    {
     "name": "stdout",
     "output_type": "stream",
     "text": [
      "Average Bucket Size in hash table 1: 19.9632\n",
      "Average Bucket Size in hash table 2: 19.9968\n",
      "Average Bucket Size in hash table 3: 19.0\n",
      "Average Bucket Size in hash table 4: 19.9948\n"
     ]
    }
   ],
   "source": [
    "print(\"Average Bucket Size in hash table 1:\", count_collisions(htable1)/5000)\n",
    "print(\"Average Bucket Size in hash table 2:\", count_collisions(htable2)/5000)\n",
    "print(\"Average Bucket Size in hash table 3:\", count_collisions(htable3)/5000)\n",
    "print(\"Average Bucket Size in hash table 4:\", count_collisions(htable4)/5000)\n",
    "\n",
    "\n",
    "#raise NotImplementedError()"
   ]
  },
  {
   "cell_type": "markdown",
   "metadata": {
    "deletable": false,
    "editable": false,
    "nbgrader": {
     "checksum": "aaeb9bd55b7a86f8bc8079cbb7f8bca4",
     "grade": false,
     "grade_id": "cell-b86aef4dd22c236c",
     "locked": true,
     "schema_version": 1,
     "solution": false
    }
   },
   "source": [
    "## Question 7.\n",
    "\n",
    "Time how long it takes to find elements that are in each hash table.\n"
   ]
  },
  {
   "cell_type": "code",
   "execution_count": 73,
   "metadata": {
    "deletable": false,
    "nbgrader": {
     "checksum": "23927c46b8067f49ef10e9b4183f7680",
     "grade": true,
     "grade_id": "cell-0605f7dec7128414",
     "locked": false,
     "points": 0,
     "schema_version": 1,
     "solution": true
    }
   },
   "outputs": [
    {
     "name": "stdout",
     "output_type": "stream",
     "text": [
      "The times taken to find elements in each hash table are:  1.7523765563964843e-06 , 1.3535022735595704e-05 , 0.0 , , and 0.0 Respectively\n"
     ]
    }
   ],
   "source": [
    "import time\n",
    "\n",
    "t1 = 0\n",
    "t2 = 0\n",
    "t3 = 0\n",
    "t4 = 0\n",
    "\n",
    "for i in range(100):\n",
    "    starttime = time.time()\n",
    "    contains(htable1,words[i],hash_str1)\n",
    "    t1 += time.time()-starttime\n",
    "    \n",
    "    starttime = time.time()\n",
    "    contains(htable2,words[i],hash_str2)\n",
    "    t2 += time.time()-starttime\n",
    "    \n",
    "    starttime = time.time()\n",
    "    contains(htable3,words[i],hash_str3)\n",
    "    t2 += time.time()-starttime\n",
    "    \n",
    "    starttime = time.time()\n",
    "    contains(htable4,words[i],hash_str4)\n",
    "    t2 += time.time()-starttime\n",
    "    \n",
    "t1=t1/100\n",
    "t2=t2/100\n",
    "t3=t3/100\n",
    "t4=t4/100\n",
    "\n",
    "print(\"The times taken to find elements in each hash table are: \",t1,\",\",t2,\",\",t3,\",\",\", and\", t4, \"Respectively\")\n",
    "# YOUR CODE HERE\n",
    "#raise NotImplementedError()"
   ]
  },
  {
   "cell_type": "markdown",
   "metadata": {
    "deletable": false,
    "editable": false,
    "nbgrader": {
     "checksum": "b051093ca9a2faf1658679380bf29033",
     "grade": false,
     "grade_id": "cell-75db2c2e62cec090",
     "locked": true,
     "schema_version": 1,
     "solution": false
    }
   },
   "source": [
    "## Question 8.\n",
    "For each hash table, time how long it takes to find 10,000 elements that have not been stored."
   ]
  },
  {
   "cell_type": "code",
   "execution_count": 74,
   "metadata": {
    "deletable": false,
    "nbgrader": {
     "checksum": "99b2fa8c88000c2143cb00fac1f6aa5f",
     "grade": true,
     "grade_id": "cell-b846b45e1b98ae59",
     "locked": false,
     "points": 0,
     "schema_version": 1,
     "solution": true
    }
   },
   "outputs": [
    {
     "name": "stdout",
     "output_type": "stream",
     "text": [
      "The times taken to find elements in each hash table are:  0.1369330883026123 , 2.566131353378296 , 0 , , and 0 Respectively\n"
     ]
    }
   ],
   "source": [
    "t1 = 0\n",
    "t2 = 0\n",
    "t3 = 0\n",
    "t4 = 0\n",
    "\n",
    "for i in range(10000):\n",
    "    starttime = time.time()\n",
    "    contains(htable1,randomword(11),hash_str1)\n",
    "    t1 += time.time()-starttime\n",
    "    \n",
    "    starttime = time.time()\n",
    "    contains(htable2,randomword(11),hash_str2)\n",
    "    t2 += time.time()-starttime\n",
    "    \n",
    "    starttime = time.time()\n",
    "    contains(htable3,randomword(11),hash_str3)\n",
    "    t2 += time.time()-starttime\n",
    "    \n",
    "    starttime = time.time()\n",
    "    contains(htable4,randomword(11),hash_str4)\n",
    "    t2 += time.time()-starttime\n",
    "    \n",
    "\n",
    "print(\"The times taken to find elements in each hash table are: \",t1,\",\",t2,\",\",t3,\",\",\", and\", t4, \"Respectively\")\n",
    "# YOUR CODE HERE\n",
    "#raise NotImplementedError()\n",
    "\n",
    "# YOUR CODE HERE\n",
    "#raise NotImplementedError()"
   ]
  },
  {
   "cell_type": "code",
   "execution_count": 62,
   "metadata": {},
   "outputs": [
    {
     "data": {
      "text/plain": [
       "0"
      ]
     },
     "execution_count": 62,
     "metadata": {},
     "output_type": "execute_result"
    }
   ],
   "source": [
    "#Just working out some bugs...\n",
    "\n",
    "v1=v2=0\n",
    "\n",
    "v1 = 4\n",
    "\n",
    "v2"
   ]
  },
  {
   "cell_type": "code",
   "execution_count": 68,
   "metadata": {},
   "outputs": [
    {
     "data": {
      "text/plain": [
       "[[4]]"
      ]
     },
     "execution_count": 68,
     "metadata": {},
     "output_type": "execute_result"
    }
   ],
   "source": [
    "l1 = l2 = []\n",
    "\n",
    "l1 = [4]\n",
    "\n",
    "l2"
   ]
  },
  {
   "cell_type": "code",
   "execution_count": 65,
   "metadata": {},
   "outputs": [
    {
     "data": {
      "text/plain": [
       "[[4], []]"
      ]
     },
     "execution_count": 65,
     "metadata": {},
     "output_type": "execute_result"
    }
   ],
   "source": [
    "l1 = l2 = [[],[]]\n",
    "\n",
    "l1[0] = [4]\n",
    "\n",
    "l2"
   ]
  },
  {
   "cell_type": "code",
   "execution_count": 64,
   "metadata": {},
   "outputs": [
    {
     "data": {
      "text/plain": [
       "[[], ['abcd'], []]"
      ]
     },
     "execution_count": 64,
     "metadata": {},
     "output_type": "execute_result"
    }
   ],
   "source": [
    "h1 = h2 = empty_hash_table(3)\n",
    "\n",
    "add_to_hash_table(h1,'abcd',hash_str1)\n",
    "\n",
    "h2"
   ]
  },
  {
   "cell_type": "code",
   "execution_count": null,
   "metadata": {},
   "outputs": [],
   "source": []
  }
 ],
 "metadata": {
  "kernelspec": {
   "display_name": "Python 3",
   "language": "python",
   "name": "python3"
  },
  "language_info": {
   "codemirror_mode": {
    "name": "ipython",
    "version": 3
   },
   "file_extension": ".py",
   "mimetype": "text/x-python",
   "name": "python",
   "nbconvert_exporter": "python",
   "pygments_lexer": "ipython3",
   "version": "3.7.4"
  }
 },
 "nbformat": 4,
 "nbformat_minor": 4
}
