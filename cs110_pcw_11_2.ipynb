{
 "cells": [
  {
   "cell_type": "markdown",
   "metadata": {},
   "source": [
    "Before you turn this problem in, make sure everything runs as expected. First, **restart the kernel** (in the menubar, select Kernel$\\rightarrow$Restart) and then **run all cells** (in the menubar, select Cell$\\rightarrow$Run All).\n",
    "\n",
    "Make sure you fill in any place that says `YOUR CODE HERE` or \"YOUR ANSWER HERE\", as well as your name and collaborators below:"
   ]
  },
  {
   "cell_type": "code",
   "execution_count": null,
   "metadata": {},
   "outputs": [],
   "source": [
    "NAME = \"Evan\"\n",
    "COLLABORATORS = \"\""
   ]
  },
  {
   "cell_type": "markdown",
   "metadata": {},
   "source": [
    "---"
   ]
  },
  {
   "cell_type": "markdown",
   "metadata": {
    "deletable": false,
    "editable": false,
    "nbgrader": {
     "checksum": "d7cae628a3a7dfc685fb4a651b255e7f",
     "grade": false,
     "grade_id": "cell-7c653a07f1dcf31f",
     "locked": true,
     "schema_version": 1,
     "solution": false
    }
   },
   "source": [
    "# CS110 Pre-class Work 11.2\n",
    "\n",
    "## Part A.  Currency trading (Slightly simplified version of 15.3-6 from Cormen et al.)\n",
    "\n",
    "Imagine that you wish to exchange one currency for another. You realize that instead of directly exchanging one currency for another, you might be better off making a series of trades through other currencies, winding up with the currency you want.\n",
    "\n",
    "Suppose that you can trade n different currencies, numbered $1,2,… ,n$, where you start with currency 1 and wish to wind up with currency $n$. You are given, for each pair of currencies $i$ and $j$ , an exchange rate $r_{ij}$ , meaning that if you start with $d$ units of currency $i$ , you can trade for $dr_{ij}$ units of currency $j$. Note that the total number of trades allowed is limited to $n$.\n",
    "\n",
    "Assuming there is no commission, propose an algorithm (described in prose) to solve this problem using either a memoization or bottom-up strategy. **Note that we will be working on the Python implementation in class.**\n",
    "\n",
    "Click [here](https://drive.google.com/open?id=1L8Fjo1Xt8sltab-tz3m91eTuiE9LYWF7) for some example data."
   ]
  },
  {
   "cell_type": "markdown",
   "metadata": {
    "deletable": false,
    "nbgrader": {
     "checksum": "6a364d83fa9056b77c801ed198a4bb4b",
     "grade": true,
     "grade_id": "cell-3f8a8808c720baf2",
     "locked": false,
     "points": 0,
     "schema_version": 1,
     "solution": true
    }
   },
   "source": [
    "This problem could be solved by using memoization to record the subproblems of getting from currency 1 to n. We will have n-1 currecies that the first currency can be traded for. We could save the highest possible returns for a trade for all currencies on an nxn matrix. Each cell in the matrix would represent not just the direct exchange rates (as given) but the exchange rates for the optimal solution. This is longest weighted path directed network problem. In some cases, the most profitable path would be the direct path, and in others it would be an indirect path. The matrix would call on this memory rather than computing all the possible paths explicity to create an efficient solution."
   ]
  },
  {
   "cell_type": "markdown",
   "metadata": {
    "deletable": false,
    "editable": false,
    "nbgrader": {
     "checksum": "0f0c3ae16f851ad36fa786f2a5876c04",
     "grade": false,
     "grade_id": "cell-a98b3a35b99eff16",
     "locked": true,
     "schema_version": 1,
     "solution": false
    }
   },
   "source": [
    "## Part B - Money game (Solution)\n",
    "Consider a row of n coins of values $v_1, v_2,...,v_n$, **where $n$ is even**. We play a game against an opponent by alternating turns. In each turn, a player selects either the first or last coin from the row, removes it from the row permanently, and receives the value of the coin. Determine the maximum possible amount of money we can definitely win if we move first.\n",
    "\n",
    "For example, consider the game:\n",
    "\n",
    "\\$2, \\$10, \\$1, \\$5\n",
    "\n",
    "By moving first and playing optimally one can be guaranteed of \\$15. The first move is to take \\$5. This forces your opponent to take either \\$2 or \\$1, and then allows you to take \\$10. Assume that the opposing player also plays optimally (i.e., minimizing the gain of the first-move player.)\n",
    "\n",
    "As a hint, we will provide the recurrence for the solution to this problem. Suppose $c(i,j)$ is the maximum possible amount of money the first player can win for the row of coins of value $v_i, v){i+1},...,v_j$ (so to solve our problem, we need to compute $c(1,n)$. Then:\n",
    "\n",
    "$$c(i,j)=max[v_i+min(c(i+2,j), c(i+1,j-1)), v_j+min(c(i,j-2), c(i+1,j-1))]$$\n",
    "\n",
    "You are also encouraged to watch [this video](https://www.youtube.com/watch?v=KnP8_L13xW4&list=PLF_a-qBXTGFektoI6JUOTRL36JlvD04BR&index=5) if you need some more hints.\n",
    "\n",
    "## Question 1. \n",
    "Complete the following function to solve the game using a bottom-up strategy, assuming that the opposing player also plays optimally. \n"
   ]
  },
  {
   "cell_type": "code",
   "execution_count": 66,
   "metadata": {
    "deletable": false,
    "nbgrader": {
     "checksum": "e61cd25280229deedb59dc70bebca774",
     "grade": false,
     "grade_id": "cell-4014ae901b66304b",
     "locked": false,
     "schema_version": 1,
     "solution": true
    }
   },
   "outputs": [],
   "source": [
    "def bottom_up_coin_game(A):\n",
    "    \"\"\"\n",
    "    Returns the maximum possible amount of money the first-move player can win,\n",
    "    given an array of coin values. The function solves this using a bottom-up \n",
    "    approach.\n",
    "    \n",
    "    Inputs:\n",
    "    - A: list of floats, values of the coins, of even length. \n",
    "    \n",
    "    Outputs:\n",
    "    - max_val: float, maximum possible amount of money that can be won by the first \n",
    "    player. max_val is None when the length of list A is odd.\n",
    "    \"\"\"\n",
    "    # YOUR CODE HERE\n",
    "    n = len(A)\n",
    "    if n%2 != 0:\n",
    "        return None\n",
    "    elif n == 0:\n",
    "        return 0\n",
    "    sol = []\n",
    "    \n",
    "    for i in range(n):\n",
    "        sol.append([None]*(i+1))\n",
    "    \n",
    "    for i in range(n):\n",
    "\n",
    "    \n",
    "        if i == 0:\n",
    "            for j in range(n):\n",
    "                sol[j][-1]=A[j]\n",
    "\n",
    "        if i == 1:\n",
    "            for j in range(1,n):\n",
    "                sol[j][-2]=max(A[j],A[j-1])\n",
    "        \n",
    "        print(sol)\n",
    "        if i >1:\n",
    "            for j in range(i,n):\n",
    "                sol[j][-(i+1)]=max(A[j]+min(sol[j-2][-i+1],sol[j-1][-i+1]),A[j-i]+min(sol[j][-i+1],sol[j-1][-i+1]))\n",
    "\n",
    "            #         for i in range(2,n):\n",
    "#             sol[i][-3]=max(A[i],A[i-2])\n",
    "        \n",
    "#         for i in range(3,n):\n",
    "#             sol[i][-4]=max(A[i],A[i-3])\n",
    "            \n",
    "            \n",
    "    #c(i,j) = max(A[i]+min(c(i+2,j),c(i+1,j-1)),A[j]+min(c(i,j-2),c(i+1,j-1)))    \n",
    "    return sol[-1][0]\n",
    "                                                                                  \n",
    "                                                                                  \n",
    "    raise NotImplementedError()"
   ]
  },
  {
   "cell_type": "code",
   "execution_count": 67,
   "metadata": {},
   "outputs": [
    {
     "name": "stdout",
     "output_type": "stream",
     "text": [
      "[[None], [None, None], [None, 10, None], [None, None, None, None]]\n"
     ]
    }
   ],
   "source": [
    "a = [] \n",
    "b=[2, 10, 1, 5]\n",
    "for i in range(4):\n",
    "    a.append([None]*(i+1))\n",
    "a[2][-2]=max(b[2],b[2-1])    \n",
    "print(a)"
   ]
  },
  {
   "cell_type": "code",
   "execution_count": 68,
   "metadata": {},
   "outputs": [
    {
     "name": "stdout",
     "output_type": "stream",
     "text": [
      "[[None, None, None, None], [None, None, None, None], [None, None, None, None], [None, None, None, None]]\n"
     ]
    }
   ],
   "source": [
    "solution_matrix =[[None for i in range(4)] for j in range(4)] \n",
    "print(solution_matrix)"
   ]
  },
  {
   "cell_type": "code",
   "execution_count": 69,
   "metadata": {},
   "outputs": [
    {
     "name": "stdout",
     "output_type": "stream",
     "text": [
      "[[2], [None, 10], [None, None, 1], [None, None, None, 5]]\n",
      "[[2], [10, 10], [None, 10, 1], [None, None, 5, 5]]\n",
      "[[2], [10, 10], [None, 10, 1], [None, None, 5, 5]]\n",
      "[[2], [10, 10], [3, 10, 1], [None, 11, 5, 5]]\n",
      "15\n"
     ]
    }
   ],
   "source": [
    "print(bottom_up_coin_game([2, 10, 1, 5]))"
   ]
  },
  {
   "cell_type": "code",
   "execution_count": 61,
   "metadata": {
    "deletable": false,
    "editable": false,
    "nbgrader": {
     "checksum": "64d503b9fb6026f9ee38108702bb7b78",
     "grade": true,
     "grade_id": "cell-f7a5d6c26e95dab2",
     "locked": true,
     "points": 1,
     "schema_version": 1,
     "solution": false
    }
   },
   "outputs": [
    {
     "name": "stdout",
     "output_type": "stream",
     "text": [
      "[[2], [None, 10], [None, None, 1], [None, None, None, 5]]\n",
      "[[2], [10, 10], [None, 10, 1], [None, None, 5, 5]]\n",
      "[[2], [10, 10], [None, 10, 1], [None, None, 5, 5]]\n"
     ]
    },
    {
     "ename": "IndexError",
     "evalue": "list index out of range",
     "output_type": "error",
     "traceback": [
      "\u001b[0;31m---------------------------------------------------------------------------\u001b[0m",
      "\u001b[0;31mIndexError\u001b[0m                                Traceback (most recent call last)",
      "\u001b[0;32m<ipython-input-61-b7e49a2da0fa>\u001b[0m in \u001b[0;36m<module>\u001b[0;34m\u001b[0m\n\u001b[1;32m      1\u001b[0m \u001b[0;32mimport\u001b[0m \u001b[0mnumpy\u001b[0m \u001b[0;32mas\u001b[0m \u001b[0mnp\u001b[0m\u001b[0;34m\u001b[0m\u001b[0;34m\u001b[0m\u001b[0m\n\u001b[0;32m----> 2\u001b[0;31m \u001b[0;32massert\u001b[0m\u001b[0;34m(\u001b[0m\u001b[0mbottom_up_coin_game\u001b[0m\u001b[0;34m(\u001b[0m\u001b[0;34m[\u001b[0m\u001b[0;36m2\u001b[0m\u001b[0;34m,\u001b[0m \u001b[0;36m10\u001b[0m\u001b[0;34m,\u001b[0m \u001b[0;36m1\u001b[0m\u001b[0;34m,\u001b[0m \u001b[0;36m5\u001b[0m\u001b[0;34m]\u001b[0m\u001b[0;34m)\u001b[0m \u001b[0;34m==\u001b[0m \u001b[0;36m15\u001b[0m\u001b[0;34m)\u001b[0m\u001b[0;34m\u001b[0m\u001b[0;34m\u001b[0m\u001b[0m\n\u001b[0m\u001b[1;32m      3\u001b[0m \u001b[0;32massert\u001b[0m\u001b[0;34m(\u001b[0m\u001b[0mbottom_up_coin_game\u001b[0m\u001b[0;34m(\u001b[0m\u001b[0;34m[\u001b[0m\u001b[0;36m2\u001b[0m\u001b[0;34m,\u001b[0m \u001b[0;36m10\u001b[0m\u001b[0;34m,\u001b[0m \u001b[0;36m1\u001b[0m\u001b[0;34m,\u001b[0m \u001b[0;36m5\u001b[0m\u001b[0;34m,\u001b[0m \u001b[0;36m5\u001b[0m\u001b[0;34m]\u001b[0m\u001b[0;34m)\u001b[0m \u001b[0;32mis\u001b[0m \u001b[0;32mNone\u001b[0m\u001b[0;34m)\u001b[0m\u001b[0;34m\u001b[0m\u001b[0;34m\u001b[0m\u001b[0m\n\u001b[1;32m      4\u001b[0m \u001b[0;32massert\u001b[0m\u001b[0;34m(\u001b[0m\u001b[0mbottom_up_coin_game\u001b[0m\u001b[0;34m(\u001b[0m\u001b[0;34m[\u001b[0m\u001b[0;34m]\u001b[0m\u001b[0;34m)\u001b[0m \u001b[0;34m==\u001b[0m \u001b[0;36m0\u001b[0m\u001b[0;34m)\u001b[0m\u001b[0;34m\u001b[0m\u001b[0;34m\u001b[0m\u001b[0m\n",
      "\u001b[0;32m<ipython-input-57-711796946879>\u001b[0m in \u001b[0;36mbottom_up_coin_game\u001b[0;34m(A)\u001b[0m\n\u001b[1;32m     37\u001b[0m         \u001b[0;32mif\u001b[0m \u001b[0mi\u001b[0m \u001b[0;34m>\u001b[0m\u001b[0;36m1\u001b[0m\u001b[0;34m:\u001b[0m\u001b[0;34m\u001b[0m\u001b[0;34m\u001b[0m\u001b[0m\n\u001b[1;32m     38\u001b[0m             \u001b[0;32mfor\u001b[0m \u001b[0mj\u001b[0m \u001b[0;32min\u001b[0m \u001b[0mrange\u001b[0m\u001b[0;34m(\u001b[0m\u001b[0mi\u001b[0m\u001b[0;34m,\u001b[0m\u001b[0mn\u001b[0m\u001b[0;34m)\u001b[0m\u001b[0;34m:\u001b[0m\u001b[0;34m\u001b[0m\u001b[0;34m\u001b[0m\u001b[0m\n\u001b[0;32m---> 39\u001b[0;31m                 \u001b[0msol\u001b[0m\u001b[0;34m[\u001b[0m\u001b[0mj\u001b[0m\u001b[0;34m]\u001b[0m\u001b[0;34m[\u001b[0m\u001b[0;34m-\u001b[0m\u001b[0;34m(\u001b[0m\u001b[0mi\u001b[0m\u001b[0;34m+\u001b[0m\u001b[0;36m1\u001b[0m\u001b[0;34m)\u001b[0m\u001b[0;34m]\u001b[0m\u001b[0;34m=\u001b[0m\u001b[0mmax\u001b[0m\u001b[0;34m(\u001b[0m\u001b[0mA\u001b[0m\u001b[0;34m[\u001b[0m\u001b[0mj\u001b[0m\u001b[0;34m]\u001b[0m\u001b[0;34m+\u001b[0m\u001b[0mmin\u001b[0m\u001b[0;34m(\u001b[0m\u001b[0msol\u001b[0m\u001b[0;34m[\u001b[0m\u001b[0mj\u001b[0m\u001b[0;34m]\u001b[0m\u001b[0;34m[\u001b[0m\u001b[0;34m-\u001b[0m\u001b[0mi\u001b[0m\u001b[0;34m]\u001b[0m\u001b[0;34m,\u001b[0m\u001b[0msol\u001b[0m\u001b[0;34m[\u001b[0m\u001b[0mj\u001b[0m\u001b[0;34m-\u001b[0m\u001b[0;36m1\u001b[0m\u001b[0;34m]\u001b[0m\u001b[0;34m[\u001b[0m\u001b[0;34m-\u001b[0m\u001b[0;34m(\u001b[0m\u001b[0mi\u001b[0m\u001b[0;34m+\u001b[0m\u001b[0;36m1\u001b[0m\u001b[0;34m)\u001b[0m\u001b[0;34m]\u001b[0m\u001b[0;34m)\u001b[0m\u001b[0;34m,\u001b[0m\u001b[0mA\u001b[0m\u001b[0;34m[\u001b[0m\u001b[0mj\u001b[0m\u001b[0;34m-\u001b[0m\u001b[0mi\u001b[0m\u001b[0;34m]\u001b[0m\u001b[0;34m+\u001b[0m\u001b[0mmin\u001b[0m\u001b[0;34m(\u001b[0m\u001b[0msol\u001b[0m\u001b[0;34m[\u001b[0m\u001b[0mj\u001b[0m\u001b[0;34m]\u001b[0m\u001b[0;34m[\u001b[0m\u001b[0;34m-\u001b[0m\u001b[0mi\u001b[0m\u001b[0;34m]\u001b[0m\u001b[0;34m,\u001b[0m\u001b[0msol\u001b[0m\u001b[0;34m[\u001b[0m\u001b[0mj\u001b[0m\u001b[0;34m-\u001b[0m\u001b[0;36m1\u001b[0m\u001b[0;34m]\u001b[0m\u001b[0;34m[\u001b[0m\u001b[0;34m-\u001b[0m\u001b[0;34m(\u001b[0m\u001b[0mi\u001b[0m\u001b[0;34m+\u001b[0m\u001b[0;36m1\u001b[0m\u001b[0;34m)\u001b[0m\u001b[0;34m]\u001b[0m\u001b[0;34m)\u001b[0m\u001b[0;34m)\u001b[0m\u001b[0;34m\u001b[0m\u001b[0;34m\u001b[0m\u001b[0m\n\u001b[0m\u001b[1;32m     40\u001b[0m \u001b[0;34m\u001b[0m\u001b[0m\n\u001b[1;32m     41\u001b[0m             \u001b[0;31m#         for i in range(2,n):\u001b[0m\u001b[0;34m\u001b[0m\u001b[0;34m\u001b[0m\u001b[0;34m\u001b[0m\u001b[0m\n",
      "\u001b[0;31mIndexError\u001b[0m: list index out of range"
     ]
    }
   ],
   "source": [
    "import numpy as np\n",
    "assert(bottom_up_coin_game([2, 10, 1, 5]) == 15)  \n",
    "assert(bottom_up_coin_game([2, 10, 1, 5, 5]) is None)  \n",
    "assert(bottom_up_coin_game([]) == 0)  "
   ]
  },
  {
   "cell_type": "markdown",
   "metadata": {
    "deletable": false,
    "editable": false,
    "nbgrader": {
     "checksum": "1ddaa5e6e10fdbf969bafae2eb91e530",
     "grade": false,
     "grade_id": "cell-9f26726550c78cce",
     "locked": true,
     "schema_version": 1,
     "solution": false
    }
   },
   "source": [
    "## [Optional]  Question 2. \n",
    "\n",
    "Complete the function `print_strategy` to print out a solution to the coin game. Completing the helper function `extended_bottom_up_coin_game` to use in `print_strategy` is optional."
   ]
  },
  {
   "cell_type": "code",
   "execution_count": null,
   "metadata": {
    "deletable": false,
    "nbgrader": {
     "checksum": "33605d2bb0815e4281897b4e5170655d",
     "grade": false,
     "grade_id": "cell-4583755bc245e1e9",
     "locked": false,
     "schema_version": 1,
     "solution": true
    }
   },
   "outputs": [],
   "source": [
    "def print_strategy(A):\n",
    "    \"\"\"\n",
    "    Print coins to pick for the first player\n",
    "    \n",
    "    Inputs:\n",
    "    - A: list of floats, values of the coins, of even length.\n",
    "    \n",
    "    Outputs:\n",
    "    - max_val: float, maximum possible amount of money that can be won by the first \n",
    "    player. \n",
    "        * max_val is None if the length of list A is odd.\n",
    "        * max_val is 0 if list A is empty (no coins)\n",
    "    - out: list of values of the coins that the first player picks in that\n",
    "    order.\n",
    "        * out is None if max_val is 0 or None.\n",
    "    \"\"\"\n",
    "    # YOUR CODE HERE\n",
    "    raise NotImplementedError()"
   ]
  },
  {
   "cell_type": "code",
   "execution_count": null,
   "metadata": {
    "deletable": false,
    "editable": false,
    "nbgrader": {
     "checksum": "0cbc17ad7f81722cda989375cae1d00b",
     "grade": true,
     "grade_id": "cell-75ce551c5185e374",
     "locked": true,
     "points": 0,
     "schema_version": 1,
     "solution": false
    }
   },
   "outputs": [],
   "source": [
    "assert(print_strategy([4,6,5,20,4,6,4,8])[0] == 40)\n",
    "assert(print_strategy([4,6,5,20,4,6,4,8])[1] == [8, 6, 6, 20])"
   ]
  },
  {
   "cell_type": "code",
   "execution_count": null,
   "metadata": {},
   "outputs": [],
   "source": []
  },
  {
   "cell_type": "code",
   "execution_count": null,
   "metadata": {},
   "outputs": [],
   "source": [
    "#Korede's solution\n",
    "\n",
    "def bottom_up_coin_game(A):\n",
    "    \"\"\"\n",
    "    Returns the maximum possible amount of money the first-move player can win,\n",
    "    given an array of coin values. The function solves this using a bottom-up \n",
    "    approach.\n",
    "    \n",
    "    Inputs:\n",
    "    - A: list of floats, values of the coins, of even length. \n",
    "    \n",
    "    Outputs:\n",
    "    - max_val: float, maximum possible amount of money that can be won by the first \n",
    "    player. max_val is None when the length of list A is odd.\n",
    "    \"\"\"\n",
    "    \n",
    "    #Determine the number of coins\n",
    "    n = len(A)\n",
    "    \n",
    "    #If n is an odd number, return None\n",
    "    if n%2 == 1: \n",
    "        return None\n",
    "    \n",
    "    #If there are no coins, return 0 since no money can be made\n",
    "    elif n==0:\n",
    "        return 0\n",
    "    \n",
    "    #Initialize a matrix to store the solutions to subproblems\n",
    "    #Rows are i and columns are j (referring to the prompt)\n",
    "    solution_matrix =[[None for i in range(n)] for j in range(n)] \n",
    "    \n",
    "    for length in range(n): #Iterating through the different lengths of the sublists/ size of subproblems\n",
    "        for i in range(n - length):\n",
    "                    \n",
    "            j= i + length\n",
    "            \n",
    "            #If the just one coin, store the value since that's the only choice\n",
    "            if length== 0:\n",
    "                solution_matrix[i][j] = A[i]\n",
    "                \n",
    "            #If two coins, store the larger value\n",
    "            elif length == 1:\n",
    "                solution_matrix[i][j] = max(A[i],A[i+1])\n",
    "                \n",
    "            #If more than two coins\n",
    "            else:\n",
    "                solution_matrix[i][j] = max(A[i]+min(solution_matrix[i+2][j],solution_matrix[i+1][j-1]),\n",
    "                                           A[j]+min(solution_matrix[i][j-2],solution_matrix[i+1][j-1]))\n",
    "                \n",
    "    return solution_matrix[0][-1]"
   ]
  }
 ],
 "metadata": {
  "kernelspec": {
   "display_name": "Python 3",
   "language": "python",
   "name": "python3"
  },
  "language_info": {
   "codemirror_mode": {
    "name": "ipython",
    "version": 3
   },
   "file_extension": ".py",
   "mimetype": "text/x-python",
   "name": "python",
   "nbconvert_exporter": "python",
   "pygments_lexer": "ipython3",
   "version": "3.7.4"
  }
 },
 "nbformat": 4,
 "nbformat_minor": 4
}
