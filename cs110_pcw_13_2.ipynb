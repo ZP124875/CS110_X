{
 "cells": [
  {
   "cell_type": "markdown",
   "metadata": {},
   "source": [
    "Before you turn this problem in, make sure everything runs as expected. First, **restart the kernel** (in the menubar, select Kernel$\\rightarrow$Restart) and then **run all cells** (in the menubar, select Cell$\\rightarrow$Run All).\n",
    "\n",
    "Make sure you fill in any place that says `YOUR CODE HERE` or \"YOUR ANSWER HERE\", as well as your name and collaborators below:"
   ]
  },
  {
   "cell_type": "code",
   "execution_count": 1,
   "metadata": {},
   "outputs": [],
   "source": [
    "NAME = \"Evan\"\n",
    "COLLABORATORS = \"\""
   ]
  },
  {
   "cell_type": "markdown",
   "metadata": {},
   "source": [
    "---"
   ]
  },
  {
   "cell_type": "markdown",
   "metadata": {
    "deletable": false,
    "editable": false,
    "nbgrader": {
     "checksum": "0367f5474791e0925c489ff94bbd2547",
     "grade": false,
     "grade_id": "cell-9c63b12e232759b8",
     "locked": true,
     "schema_version": 1,
     "solution": false
    }
   },
   "source": [
    "# CS110 Pre-class Work 13.2\n",
    "\n",
    "## Question 1.\n",
    "\n",
    "The Python class `Activity` is defined below. Each activity is characterized by its name, its start time and its finish time. Your task is to complete the `greedy_activity_selector` function, which takes a list of activities sorted by their finish times as an argument."
   ]
  },
  {
   "cell_type": "code",
   "execution_count": 2,
   "metadata": {
    "deletable": false,
    "nbgrader": {
     "checksum": "413193869a5088c6f8dc9097a1772c8b",
     "grade": false,
     "grade_id": "cell-0a1157809bc7cc0d",
     "locked": false,
     "schema_version": 1,
     "solution": true
    }
   },
   "outputs": [],
   "source": [
    "\n",
    "class Activity:\n",
    "    def __init__(self, name, start, finish):\n",
    "        self.name = name\n",
    "        self.start = start\n",
    "        self.finish = finish\n",
    "    \n",
    "def greedy_activity_selector(A):\n",
    "    \"\"\"\n",
    "    Implements an iterative greedy algorithm to solve the activity-selection \n",
    "    problem (making use of NO recursive calls). See GREEDY-ACTIVITY-SELECTOR \n",
    "    in Cormen et al., p.421\n",
    "    \n",
    "    Inputs:\n",
    "    - A: list of activities, instances of Activity, already sorted by finish \n",
    "    times\n",
    "    \n",
    "    Outputs:\n",
    "    - out_list: the longest list possible of mutually compatible activities.\n",
    "    \"\"\"\n",
    "    # YOUR CODE HERE\n",
    "    n = len(A)\n",
    "    L = []\n",
    "    k = 0 #start at 0\n",
    "    for m in range(1,n):\n",
    "        if A[m].start >= A[k].finish: # start and finish\n",
    "            L.append(A[m]) \n",
    "            k = m\n",
    "    return L \n",
    "\n",
    "\n",
    "    raise NotImplementedError()\n",
    "\n"
   ]
  },
  {
   "cell_type": "markdown",
   "metadata": {
    "deletable": false,
    "editable": false,
    "nbgrader": {
     "checksum": "70bd334a21ec65d7d1714cc14fd634e0",
     "grade": false,
     "grade_id": "cell-3ba3cac56e3df1ee",
     "locked": true,
     "schema_version": 1,
     "solution": false
    }
   },
   "source": [
    "## Question 2. \n",
    "Complete the function below."
   ]
  },
  {
   "cell_type": "code",
   "execution_count": 3,
   "metadata": {
    "deletable": false,
    "nbgrader": {
     "checksum": "552c1219b681e97208d8dd79bb2b0227",
     "grade": false,
     "grade_id": "cell-28155118284d41d4",
     "locked": false,
     "schema_version": 1,
     "solution": true
    }
   },
   "outputs": [],
   "source": [
    "def recursive_activity_selector(A, k, n):\n",
    "    \"\"\"\n",
    "    Implements a recursive greedy algorithm to solve the activity-selection \n",
    "    problem. See RECURSIVE-ACTIVITY-SELECTOR in Cormen et al., p.419. Note \n",
    "    that in Cormen et al., the call that solves the entire problem is the call\n",
    "    with k=0. Because of the 0-indexing scheme in Python, the call that solves \n",
    "    the entire problem is with k=-1 (i.e., recursive_activity_selector(A, -1, len(A)))\n",
    "    \n",
    "    Inputs:\n",
    "    - A: list of activities, instances of Activity, already sorted by finish \n",
    "    times\n",
    "    - k: int, defines the subproblem S_k it is to solve (see Cormen et al.) for \n",
    "    the definition of the subproblem S_k\n",
    "    - n: int, the size n of the original problem\n",
    "    \n",
    "    Outputs:\n",
    "    - out_list: the longest list possible of mutually compatible activities. \n",
    "    \"\"\"\n",
    "    # YOUR CODE HERE\n",
    "    \n",
    "    m = k+1\n",
    "    while m < n and A[m].start < A[k].finish: \n",
    "        m = m+1\n",
    "    if m < n:\n",
    "        return [A[m]] + recursive_activity_selector(A,m,n)  \n",
    "    else:\n",
    "        return []\n",
    "    raise NotImplementedError()\n",
    "\n"
   ]
  },
  {
   "cell_type": "markdown",
   "metadata": {
    "deletable": false,
    "editable": false,
    "nbgrader": {
     "checksum": "d358371608b96d9cf1c95a70e45d897c",
     "grade": false,
     "grade_id": "cell-e6deaa568f277413",
     "locked": true,
     "schema_version": 1,
     "solution": false
    }
   },
   "source": [
    "## Question 3. \n",
    "Compare the running time of `greedy_activity_selector` and `recursive_activity_selector` on different lengths of a random activity list. Do this by producing a plot, where the x axis is the length of the activity list (`list(range(1,1000,10))`) and the y axis is the running time. Note that:\n",
    "1. Don't forget to average your results over 100 iterations for each length of the activity list.\n",
    "2. The two lines for `greedy_activity_selector` and `recursive_activity_selector` should be present in the same plot (with different colors), not two separate plots, for easy comparison. \n",
    "3. To generate an random activity list of a certain length, use the function `activity_list_gen` below. "
   ]
  },
  {
   "cell_type": "code",
   "execution_count": 4,
   "metadata": {
    "deletable": false,
    "editable": false,
    "nbgrader": {
     "checksum": "cfb588e2ed22b6ecf70e59b053577239",
     "grade": false,
     "grade_id": "cell-5dcfc08cf359cece",
     "locked": true,
     "schema_version": 1,
     "solution": false
    }
   },
   "outputs": [],
   "source": [
    "import random\n",
    "def activity_list_gen(n):\n",
    "    finish_times = random.sample(range(n*3), n)\n",
    "    finish_times.sort()\n",
    "    \n",
    "    start_times = []\n",
    "    for ftime in finish_times:\n",
    "        offset = random.randint(1,5)\n",
    "        start_times.append(max(ftime-offset, 0))\n",
    "    \n",
    "    out_list = []\n",
    "    for i in range(n):\n",
    "        out_list.append(Activity(str(i), start_times[i], finish_times[i]))\n",
    "    \n",
    "    return out_list"
   ]
  },
  {
   "cell_type": "code",
   "execution_count": 14,
   "metadata": {
    "deletable": false,
    "nbgrader": {
     "checksum": "4ab7dbacbfb7ec0218e98b3cbce93849",
     "grade": true,
     "grade_id": "cell-c17d8c7a46d900d4",
     "locked": false,
     "points": 0,
     "schema_version": 1,
     "solution": true
    }
   },
   "outputs": [
    {
     "data": {
      "image/png": "[encoded data removed]",
      "text/plain": [
       "<Figure size 432x288 with 1 Axes>"
      ]
     },
     "metadata": {
      "needs_background": "light"
     },
     "output_type": "display_data"
    }
   ],
   "source": [
    "# YOUR CODE HERE\n",
    "import time\n",
    "import matplotlib.pyplot as plt\n",
    "\n",
    "xrange = (list(range(1,1000,10)))\n",
    "\n",
    "test_list_g = []\n",
    "test_list_r = []\n",
    "for i in range(1,1000,10):\n",
    "    activity_list = activity_list_gen(i)\n",
    "    gs = []\n",
    "    rs = []\n",
    "    for i in range(100):\n",
    "        start = time.time()\n",
    "        greedy_activity_selector(activity_list)\n",
    "        end = time.time()\n",
    "        gs.append(end-start)\n",
    "\n",
    "        start = time.time()\n",
    "        recursive_activity_selector(activity_list, -1, len(activity_list))\n",
    "        end = time.time()\n",
    "        rs.append(end-start)\n",
    "        \n",
    "    test_list_g.append(sum(gs)/100)\n",
    "    test_list_r.append(sum(rs)/100)\n",
    "    \n",
    "plt.plot(xrange,test_list_g)    \n",
    "plt.plot(xrange,test_list_r,color = 'r') \n",
    "plt.title(\"List len vs Time\")\n",
    "plt.show()\n",
    "#raise NotImplementedError()"
   ]
  },
  {
   "cell_type": "markdown",
   "metadata": {
    "deletable": false,
    "editable": false,
    "nbgrader": {
     "checksum": "ef53f9d29a3d6ad20ef5fd89d07f496d",
     "grade": false,
     "grade_id": "cell-ddb1a8b21fec268c",
     "locked": true,
     "schema_version": 1,
     "solution": false
    }
   },
   "source": [
    "## Question 4. \n",
    "Explain the results in question 3."
   ]
  },
  {
   "cell_type": "markdown",
   "metadata": {
    "deletable": false,
    "nbgrader": {
     "checksum": "7458e09161fa43cfd28acf6b96fd477d",
     "grade": true,
     "grade_id": "cell-9b12191daa3f4086",
     "locked": false,
     "points": 0,
     "schema_version": 1,
     "solution": true
    }
   },
   "source": [
    "We can see that the recursive approach always runs slightly faster than the greedy approach, however the have a simular pattern and the same overall time complexity. "
   ]
  },
  {
   "cell_type": "markdown",
   "metadata": {
    "deletable": false,
    "editable": false,
    "nbgrader": {
     "checksum": "c31c0a7c2d604dd8cfeb752010cde829",
     "grade": false,
     "grade_id": "cell-eacc2a9d0cf501b2",
     "locked": true,
     "schema_version": 1,
     "solution": false
    }
   },
   "source": [
    "## [Optional] Question 5. \n",
    "Overload the operator \"<\" for a comparison between two instances of the class Activity so that A.sort() will sort A, a list of activities, by their finish times.\n",
    "\n",
    "**This might be very helpful for your final project, so please try this exercise and reach out to the TAs if you'd like to further discuss Overloading in Python**"
   ]
  },
  {
   "cell_type": "code",
   "execution_count": null,
   "metadata": {
    "deletable": false,
    "nbgrader": {
     "checksum": "4ada10c6b3b59595715c8fb6330d1254",
     "grade": true,
     "grade_id": "cell-d71b61f1ff24eab6",
     "locked": false,
     "points": 0,
     "schema_version": 1,
     "solution": true
    }
   },
   "outputs": [],
   "source": [
    "import copy\n",
    "class Activity:\n",
    "    def __init__(self, name, start, finish):\n",
    "        self.name = name\n",
    "        self.start = start\n",
    "        self.finish = finish\n",
    "    \n",
    "    def __lt__(self, other):\n",
    "        # YOUR CODE HERE\n",
    "        raise NotImplementedError()\n",
    "\n",
    "# Testing code\n",
    "\n",
    "A = [Activity('1', 0, 2),\n",
    "     Activity('2', 1, 5),\n",
    "     Activity('3', 0, 1),\n",
    "     Activity('4', 5, 6)]\n",
    "\n",
    "A.sort()\n",
    "\n",
    "finish_time_list = []\n",
    "\n",
    "for act in A:\n",
    "    finish_time_list.append(act.finish)\n",
    "\n",
    "B = copy.deepcopy(finish_time_list)\n",
    "B.sort()\n",
    "B == finish_time_list"
   ]
  }
 ],
 "metadata": {
  "kernelspec": {
   "display_name": "Python 3",
   "language": "python",
   "name": "python3"
  },
  "language_info": {
   "codemirror_mode": {
    "name": "ipython",
    "version": 3
   },
   "file_extension": ".py",
   "mimetype": "text/x-python",
   "name": "python",
   "nbconvert_exporter": "python",
   "pygments_lexer": "ipython3",
   "version": "3.7.4"
  }
 },
 "nbformat": 4,
 "nbformat_minor": 4
}
