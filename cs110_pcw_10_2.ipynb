{
 "cells": [
  {
   "cell_type": "markdown",
   "metadata": {},
   "source": [
    "Before you turn this problem in, make sure everything runs as expected. First, **restart the kernel** (in the menubar, select Kernel$\\rightarrow$Restart) and then **run all cells** (in the menubar, select Cell$\\rightarrow$Run All).\n",
    "\n",
    "Make sure you fill in any place that says `YOUR CODE HERE` or \"YOUR ANSWER HERE\", as well as your name and collaborators below:"
   ]
  },
  {
   "cell_type": "code",
   "execution_count": 1,
   "metadata": {},
   "outputs": [],
   "source": [
    "NAME = \"Evan\"\n",
    "COLLABORATORS = \"\""
   ]
  },
  {
   "cell_type": "markdown",
   "metadata": {},
   "source": [
    "---"
   ]
  },
  {
   "cell_type": "markdown",
   "metadata": {
    "deletable": false,
    "editable": false,
    "nbgrader": {
     "checksum": "d0fd0bb7c384064cb041a44bf70e8b02",
     "grade": false,
     "grade_id": "cell-33bec640a44b2efb",
     "locked": true,
     "schema_version": 1,
     "solution": false
    }
   },
   "source": [
    "# CS110 Pre-class Work 10.2\n",
    "\n",
    "## Question 1.\n",
    "\n",
    "# Question 1. \n",
    "\n",
    "Fill in the code below for the method `insert` for a node in a BST. This should be a matter of copy-paste, as this is part of the pre-class work for lesson 8.2"
   ]
  },
  {
   "cell_type": "code",
   "execution_count": 2,
   "metadata": {
    "deletable": false,
    "nbgrader": {
     "checksum": "1e73c46c2a2a875237544d6dc55bb5dd",
     "grade": false,
     "grade_id": "cell-745f89da313e6515",
     "locked": false,
     "schema_version": 1,
     "solution": true
    }
   },
   "outputs": [],
   "source": [
    "## Binary Search Tree\n",
    "##\n",
    "class Node:\n",
    "    def __init__(self, val):\n",
    "        self.l_child = None\n",
    "        self.r_child = None\n",
    "        self.parent = None\n",
    "        self.data = val\n",
    "\n",
    "    def insert(self, node):\n",
    "        \"\"\"inserts a node into a *non-empty* tree rooted at the node, returns the root\"\"\"\n",
    "        # YOUR CODE HERE\n",
    "        if self.data > node.data:\n",
    "            if self.l_child is None:\n",
    "                self.l_child = node\n",
    "                node.parent = self\n",
    "            else:\n",
    "                self.l_child.insert(node)\n",
    "        else:\n",
    "            if self.r_child is None:\n",
    "                self.r_child = node\n",
    "                node.parent = self\n",
    "            else:\n",
    "                self.r_child.insert(node)\n",
    "        return self\n",
    "        raise NotImplementedError()"
   ]
  },
  {
   "cell_type": "markdown",
   "metadata": {
    "deletable": false,
    "editable": false,
    "nbgrader": {
     "checksum": "d7869a1408da6c53f19a4997a5f9f19d",
     "grade": false,
     "grade_id": "cell-cb50799e5896410d",
     "locked": true,
     "schema_version": 1,
     "solution": false
    }
   },
   "source": [
    "## Question 2. \n",
    "\n",
    "Below you are provided the code for insertion in an AVL tree. However, to make it work, you need to complete the functions `left_rotate` and `right_rotate`. Use the pseudo-code `LEFT-ROTATE` in Cormen et al. and the one you wrote for `RIGHT-ROTATE` from lesson 10.1 to fill in the code."
   ]
  },
  {
   "cell_type": "code",
   "execution_count": 3,
   "metadata": {
    "deletable": false,
    "nbgrader": {
     "checksum": "4d07355d974c38bbebe0126bd35fc223",
     "grade": false,
     "grade_id": "cell-361ebe4f40c15ba5",
     "locked": false,
     "schema_version": 1,
     "solution": true
    }
   },
   "outputs": [],
   "source": [
    "\n",
    "## AVL Tree\n",
    "##\n",
    "class AVLNode(Node):\n",
    "    def __init__(self, val):\n",
    "        self.l_child = None\n",
    "        self.r_child = None\n",
    "        self.parent = None\n",
    "        self.data = val\n",
    "        self.lr_balance = 0\n",
    "        self.height = 0\n",
    "    \n",
    "    def get_violating_node(self, root):\n",
    "        if self == root:\n",
    "            return None\n",
    "        if self == self.parent.r_child:\n",
    "            if not self.parent.l_child:\n",
    "                self.parent.height = max(-1, self.height) + 1\n",
    "                self.parent.lr_balance = -1-self.height\n",
    "            else:\n",
    "                self.parent.height = max(self.parent.l_child.height, self.height) + 1\n",
    "                self.parent.lr_balance = self.parent.l_child.height-self.height\n",
    "        else:\n",
    "            if not self.parent.r_child:\n",
    "                self.parent.height = max(-1, self.height) + 1\n",
    "                self.parent.lr_balance = self.height + 1\n",
    "            else:\n",
    "                self.parent.height = max(self.parent.r_child.height, self.height) + 1\n",
    "                self.parent.lr_balance = self.height-self.parent.r_child.height\n",
    "        if abs(self.parent.lr_balance) > 1:\n",
    "            return self.parent\n",
    "        else:\n",
    "            return self.parent.get_violating_node(root)\n",
    "                \n",
    "\n",
    "    def insert(self, node):\n",
    "        \"\"\"inserts a node into a *non-empty* tree rooted at the node, returns the root\"\"\"\n",
    "\n",
    "        violating_node = None\n",
    "        curr_node = self\n",
    "        root = self\n",
    "        while curr_node:\n",
    "            if curr_node.data > node.data:\n",
    "                if curr_node.l_child is None:\n",
    "                    curr_node.l_child = node\n",
    "                    node.parent = curr_node\n",
    "                    break\n",
    "                else:\n",
    "                    curr_node = curr_node.l_child \n",
    "            else:   \n",
    "                if curr_node.r_child is None:\n",
    "                    curr_node.r_child = node\n",
    "                    node.parent = curr_node\n",
    "                    break\n",
    "                else:\n",
    "                    curr_node = curr_node.r_child\n",
    "        # fix up the tree\n",
    "        violating_node = node.get_violating_node(root)\n",
    "        \n",
    "        while violating_node:\n",
    "            x = violating_node\n",
    "            if x.lr_balance < 0: # right heavy\n",
    "                y = x.r_child\n",
    "                if y.lr_balance < 0:\n",
    "                    root = left_rotate(x, root)\n",
    "                    x.lr_balance = 0\n",
    "                    x.height -= 2\n",
    "                    y.lr_balance = 0\n",
    "                elif y.lr_balance == 0:\n",
    "                    root = left_rotate(x, root)\n",
    "                    x.lr_balance = -1\n",
    "                    x.height -= 1\n",
    "                    y.lr_balance = 1\n",
    "                    y.height += 1 \n",
    "                else:\n",
    "                    z = x.r_child\n",
    "                    y = z.l_child\n",
    "                    root = right_rotate(z, root)\n",
    "                    root = left_rotate(x, root)\n",
    "                    x.height -= 2\n",
    "                    y.lr_balance = 0\n",
    "                    y.height += 1\n",
    "                    z.height -= 1 \n",
    "                    if y.lr_balance == -1: \n",
    "                        x.lr_balance = 1\n",
    "                        z.lr_balance = 0\n",
    "                    elif y.lr_balance == 0: \n",
    "                        x.lr_balance = 0\n",
    "                        z.lr_balance = 0\n",
    "                    else: \n",
    "                        x.lr_balance = 0\n",
    "                        z.lr_balance = -1 \n",
    "       \n",
    "            else:\n",
    "                y = x.l_child\n",
    "                if y.lr_balance > 0:\n",
    "                    root = right_rotate(x, root)\n",
    "                    x.lr_balance = 0\n",
    "                    x.height -= 2\n",
    "                    y.lr_balance = 0\n",
    "                elif y.lr_balance == 0:\n",
    "                    root = right_rotate(x, root)\n",
    "                    x.lr_balance = 1\n",
    "                    x.height -= 1\n",
    "                    y.lr_balance = -1\n",
    "                    y.height += 1\n",
    "                else:\n",
    "                    z = x.l_child \n",
    "                    y = z.r_child\n",
    "                    root = left_rotate(z, root)\n",
    "                    root = right_rotate(x, root)\n",
    "                    x.height -= 2\n",
    "                    y.lr_balance = 0\n",
    "                    y.height += 1\n",
    "                    z.height -= 1\n",
    "                    if y.lr_balance == -1: # B: k-2, C: k-1\n",
    "                        x.lr_balance = 0\n",
    "                        z.lr_balance = 1\n",
    "                    elif y.lr_balance == 0: # B=C=k-1\n",
    "                        x.lr_balance = 0\n",
    "                        z.lr_balance = 0\n",
    "                    else: # B: k-1, C: k-2\n",
    "                        x.lr_balance = -1\n",
    "                        z.lr_balance = 0\n",
    "            if root == y: \n",
    "                violating_node = None\n",
    "                continue\n",
    "            elif y == y.parent.l_child:\n",
    "                y.parent.lr_balance = y.height - y.parent.r_child.height\n",
    "                y.parent.height = max(y.height, y.parent.r_child.height) + 1\n",
    "            elif y == y.parent.r_child:\n",
    "                y.parent.lr_balance = y.parent.l_child.height - y.height\n",
    "                y.parent.height = max(y.parent.l_child.height, y.height) + 1\n",
    "            if abs(y.parent.lr_balance) > 1:\n",
    "                violating_node = y.parent\n",
    "            else: violating_node = None \n",
    "        return root\n",
    "\n",
    "    def inorder(self): \n",
    "            \"\"\"returns a list of all data in the tree rooted at root produced using an in order traversal\"\"\"\n",
    "            lst = []\n",
    "            root = self\n",
    "            def sub_inorder(root):\n",
    "                if not root is None:\n",
    "                    sub_inorder(root.l_child)\n",
    "                    lst.append(root.data)\n",
    "                    sub_inorder(root.r_child)\n",
    "            sub_inorder(root)\n",
    "            return lst\n",
    "\n",
    "def left_rotate(x, root):\n",
    "    \"\"\"Performs left-rotation on x, returns the root.\n",
    "    This procedure does NOT update any augmented data (if any)\n",
    "    of the nodes (e.g., height, left-right balance, etc.), simply\n",
    "    changing the pointers and the parent-child relationship,\n",
    "    and setting the new root (if any). The updating task belongs to \n",
    "    the procedure that calls this function.\n",
    "    \n",
    "    Input:\n",
    "    - x: a node, to be performed the rotation on\n",
    "    - root: the root node of the tree.\n",
    "    \n",
    "    Output:\n",
    "    - root: the (new) root of the tree\n",
    "    \"\"\"\n",
    "    # YOUR CODE HERE\n",
    "    y = x.r_child\n",
    "    x.r_child = y.l_child\n",
    "    if y.l_child != None:\n",
    "        y.l_child.parent = x\n",
    "    y.parent = x.parent\n",
    "    if x.parent == None:\n",
    "        root = y\n",
    "    elif x == x.parent.l_child:\n",
    "        x.parent.l_child = y\n",
    "    elif x == x.parent.r_child:\n",
    "        x.parent.r_child = y\n",
    "    y.l_child = x\n",
    "    x.parent = y\n",
    "    return root\n",
    "    \n",
    "    #raise NotImplementedError()\n"
   ]
  },
  {
   "cell_type": "code",
   "execution_count": 4,
   "metadata": {
    "deletable": false,
    "nbgrader": {
     "checksum": "7e1816bd591f129a1c9fbf246aae552f",
     "grade": false,
     "grade_id": "cell-a66fe31e657ca5d1",
     "locked": false,
     "schema_version": 1,
     "solution": true
    }
   },
   "outputs": [],
   "source": [
    "def right_rotate(y, root):\n",
    "    \"\"\"Performs right-rotation on x, returns the root.\n",
    "    This procedure does NOT update any augmented data (if any)\n",
    "    of the nodes (e.g., height, left-right balance, etc.), simply\n",
    "    changing the pointers and the parent-child relationship,\n",
    "    and setting the new root (if any). The updating task belongs to \n",
    "    the procedure that calls this function.\n",
    "    \n",
    "    Input:\n",
    "    - x: a node, to be performed the rotation on\n",
    "    - root: the root node of the tree.\n",
    "    \n",
    "    Output:\n",
    "    - root: the (new) root of the tree\n",
    "    \"\"\"\n",
    "    # YOUR CODE HERE\n",
    "    x = y.l_child\n",
    "    y.l_child = x.r_child\n",
    "    if x.r_child != None:\n",
    "        x.r_child.parent = y\n",
    "    x.parent = y.parent\n",
    "    if y.parent == None:\n",
    "        root = x\n",
    "    elif y == y.parent.r_child:\n",
    "        y.parent.r_child = x\n",
    "    elif y == y.parent.l_child:\n",
    "        y.parent.l_child = x\n",
    "    x.r_child = y\n",
    "    y.parent = x\n",
    "    return root\n",
    "    #raise NotImplementedError()"
   ]
  },
  {
   "cell_type": "markdown",
   "metadata": {
    "deletable": false,
    "editable": false,
    "nbgrader": {
     "checksum": "92c9e3b666432f9bf7e2b691b376313a",
     "grade": false,
     "grade_id": "cell-4dec73b8479def4e",
     "locked": true,
     "schema_version": 1,
     "solution": false
    }
   },
   "source": [
    "## Question 3.\n",
    "We will now use the code above to build a BST and an AVL by randomly inserting to the trees, then produce a plot to compare their expected heights. **Carefully** follow the instructions below to fill in the code.\n",
    "\n",
    "### Question 3a.\n",
    "\n",
    "Complete the function `height` to compute the height of a tree rooted at a node. This should also be a matter of copying and pasting because you can utilize what you wrote for `max_depth` in lesson 9.1 (recall that maximum depth of a tree rooted at a node is the node's height in the tree.)"
   ]
  },
  {
   "cell_type": "code",
   "execution_count": 5,
   "metadata": {
    "deletable": false,
    "nbgrader": {
     "checksum": "a926c72647c7f4653ed83a630a7abca9",
     "grade": false,
     "grade_id": "cell-67be70c6f7fed4d7",
     "locked": false,
     "schema_version": 1,
     "solution": true
    }
   },
   "outputs": [],
   "source": [
    "import random\n",
    "import numpy as np\n",
    "import matplotlib.pyplot as plt\n",
    "\n",
    "def height(node):\n",
    "    \"\"\"Finds the height of a BST rooted at a node.\n",
    "    \n",
    "    Input:\n",
    "    - node: a node, the root of the BST\n",
    "    \n",
    "    Output:\n",
    "    - h: int, the height of the BST\"\"\"\n",
    "    # YOUR CODE HERE\n",
    "    l_height = 0\n",
    "    r_height = 0\n",
    "    if node.l_child:\n",
    "        l_height += 1\n",
    "        l_height += height(node.l_child)\n",
    "    if node.r_child:\n",
    "        r_height += 1\n",
    "        r_height += height(node.r_child)\n",
    "    \n",
    "    return max(l_height,r_height) \n",
    "    raise NotImplementedError()\n",
    "    \n"
   ]
  },
  {
   "cell_type": "markdown",
   "metadata": {
    "deletable": false,
    "editable": false,
    "nbgrader": {
     "checksum": "951ed871170d84e77bf0894ea995e67f",
     "grade": false,
     "grade_id": "cell-380cdb956934e0ba",
     "locked": true,
     "schema_version": 1,
     "solution": false
    }
   },
   "source": [
    "# Question 3b.\n",
    "Fill in the `get_expected_height_stats` function below to get the data ready for plotting. You need to follow the template and the instructions written in the code to produce consistent data to plot. "
   ]
  },
  {
   "cell_type": "code",
   "execution_count": 6,
   "metadata": {
    "deletable": false,
    "nbgrader": {
     "checksum": "db7d02190fb5fa9d6177cdf63b8e8a71",
     "grade": false,
     "grade_id": "cell-7f81be8024b68ab4",
     "locked": false,
     "schema_version": 1,
     "solution": true
    }
   },
   "outputs": [],
   "source": [
    "import random \n",
    "\n",
    "def get_expected_height_stats(iterations):\n",
    "    \"\"\"Generate the data for plotting the expected heights of BST and AVL.\n",
    "    \n",
    "    Input:\n",
    "    - iterations: int, the number of times to insert into the tree for each \n",
    "    value of the number of nodes to insert. For each iteration, a height is \n",
    "    computed. After all the iterations, all the computed heights are averaged\n",
    "    to get an estimate of the expected height. \n",
    "    \n",
    "    Output:\n",
    "    - bst_expected_heights, avl_expected_heights: list of float, containing\n",
    "    the expected heights for the two types of trees. Each element in each list\n",
    "    corresponds to one value of n, the number of nodes in the tree. The values \n",
    "    of n are taken from range(1,500,10) (1, 11, 21, 31, etc.)\"\"\"\n",
    "    bst_expected_heights = []\n",
    "    avl_expected_heights = []\n",
    "    \n",
    "    for n in range(1,500,10):\n",
    "        # For each value of n, you need to insert n nodes to each tree for \n",
    "        # `iterations` times. For each iteration:\n",
    "            # 1. Create a list containing all integers from 0 to n-1\n",
    "            # 2. SET A RANDOM SEED TO THE INDEX OF THE CURRENT ITERATION and\n",
    "            # shuffle the list. For example, if your code is `for i in range(iterations)`,\n",
    "            # then use random.seed(i). Also, see the sample code in the next step.\n",
    "            # 3. Create BST nodes and AVL nodes taking the values from the list \n",
    "            # and insert those nodes to the respective trees IN THAT ORDER.\n",
    "            # Do make use of these lines of code:\n",
    "                # vals = list(range(int(n)))\n",
    "                # random.seed(i)\n",
    "                # random.shuffle(vals)\n",
    "                # BSTnodes = [Node(val) for val in vals]\n",
    "                # AVLnodes = [AVLNode(val) for val in vals]\n",
    "            # 4. After inserting to both trees, compute the heights.\n",
    "                \n",
    "        # YOUR CODE HERE\n",
    "        vals = list(range(int(n)))\n",
    "        bst_tot = 0\n",
    "        avl_tot = 0\n",
    "        for i in range(iterations):\n",
    "            random.seed(i)\n",
    "            random.shuffle(vals)\n",
    "            BSTnodes = [Node(val) for val in vals]\n",
    "            AVLnodes = [AVLNode(val) for val in vals]\n",
    "            bst = None\n",
    "            avl = None\n",
    "            \n",
    "            for node in BSTnodes:\n",
    "                if bst == None:\n",
    "                    bst = node\n",
    "                else: \n",
    "                    bst = bst.insert(node)\n",
    "            \n",
    "            for node in AVLnodes:\n",
    "                if avl == None:\n",
    "                    avl = node\n",
    "                else: \n",
    "                    avl = avl.insert(node)\n",
    "            \n",
    "#             BSTroot = BSTnodes[0]\n",
    "#             AVLroot = AVLnodes[0]\n",
    "#             for node in range(1,len(BSTnodes)):\n",
    "#                 BSTroot = BSTroot.insert(BSTnodes[node]) \n",
    "#             for node in range(1,len(AVLnodes)):\n",
    "#                 AVLroot = AVLroot.insert(AVLnodes[node]) \n",
    "            bst_tot += height(bst)\n",
    "            avl_tot += avl.height\n",
    "        bst_expected_heights.append(bst_tot/iterations)\n",
    "        avl_expected_heights.append(avl_tot/iterations)\n",
    "            \n",
    "       # raise NotImplementedError()\n",
    "    return bst_expected_heights, avl_expected_heights"
   ]
  },
  {
   "cell_type": "code",
   "execution_count": 7,
   "metadata": {},
   "outputs": [
    {
     "name": "stdout",
     "output_type": "stream",
     "text": [
      "[0.0, 5.3, 7.1, 7.7, 8.5, 10.1, 11.2, 11.7, 10.9, 11.3, 11.5, 12.0, 12.4, 12.7, 13.8, 13.0, 14.4, 14.1, 14.4, 15.4, 15.0, 15.3, 15.3, 14.5, 15.5, 16.2, 15.3, 16.3, 16.5, 16.7, 17.2, 17.1, 15.7, 16.8, 17.0, 16.5, 17.1, 16.4, 17.8, 17.7, 17.7, 16.9, 16.5, 17.6, 18.6, 17.5, 17.5, 17.8, 17.7, 19.2] [0.0, 3.0, 4.0, 5.0, 5.2, 5.8, 6.0, 6.0, 6.8, 7.0, 7.0, 7.0, 7.1, 7.5, 7.4, 7.8, 8.0, 8.0, 8.0, 8.0, 8.1, 8.2, 8.2, 8.1, 8.5, 8.4, 8.8, 8.8, 8.8, 8.9, 9.0, 9.0, 9.0, 9.0, 9.0, 9.0, 9.0, 9.1, 9.3, 9.1, 9.1, 9.0, 9.3, 9.7, 9.6, 9.7, 9.6, 9.6, 9.6, 9.7]\n"
     ]
    }
   ],
   "source": [
    "bst_expected_heights, avl_expected_heights = get_expected_height_stats(10)\n",
    "print(bst_expected_heights, avl_expected_heights)"
   ]
  },
  {
   "cell_type": "code",
   "execution_count": 8,
   "metadata": {
    "deletable": false,
    "editable": false,
    "nbgrader": {
     "checksum": "78ecdec6c1dcb0ad786b79fd6d9b2295",
     "grade": true,
     "grade_id": "cell-e36f0f152ef65c10",
     "locked": true,
     "points": 1,
     "schema_version": 1,
     "solution": false
    }
   },
   "outputs": [
    {
     "ename": "AssertionError",
     "evalue": "",
     "output_type": "error",
     "traceback": [
      "\u001b[0;31m---------------------------------------------------------------------------\u001b[0m",
      "\u001b[0;31mAssertionError\u001b[0m                            Traceback (most recent call last)",
      "\u001b[0;32m<ipython-input-8-ec457eaf86d3>\u001b[0m in \u001b[0;36m<module>\u001b[0;34m\u001b[0m\n\u001b[1;32m      5\u001b[0m                                 \u001b[0;36m15.5\u001b[0m\u001b[0;34m,\u001b[0m \u001b[0;36m14.9\u001b[0m\u001b[0;34m,\u001b[0m \u001b[0;36m16.0\u001b[0m\u001b[0;34m,\u001b[0m \u001b[0;36m16.1\u001b[0m\u001b[0;34m,\u001b[0m \u001b[0;36m16.2\u001b[0m\u001b[0;34m,\u001b[0m \u001b[0;36m15.4\u001b[0m\u001b[0;34m,\u001b[0m \u001b[0;36m17.5\u001b[0m\u001b[0;34m,\u001b[0m \u001b[0;36m16.7\u001b[0m\u001b[0;34m,\u001b[0m \u001b[0;36m16.1\u001b[0m\u001b[0;34m,\u001b[0m \u001b[0;36m16.4\u001b[0m\u001b[0;34m,\u001b[0m\u001b[0;34m\u001b[0m\u001b[0;34m\u001b[0m\u001b[0m\n\u001b[1;32m      6\u001b[0m                                 \u001b[0;36m17.4\u001b[0m\u001b[0;34m,\u001b[0m \u001b[0;36m16.1\u001b[0m\u001b[0;34m,\u001b[0m \u001b[0;36m17.3\u001b[0m\u001b[0;34m,\u001b[0m \u001b[0;36m16.8\u001b[0m\u001b[0;34m,\u001b[0m \u001b[0;36m16.2\u001b[0m\u001b[0;34m,\u001b[0m \u001b[0;36m16.7\u001b[0m\u001b[0;34m,\u001b[0m \u001b[0;36m17.5\u001b[0m\u001b[0;34m,\u001b[0m \u001b[0;36m17.1\u001b[0m\u001b[0;34m,\u001b[0m \u001b[0;36m18.4\u001b[0m\u001b[0;34m,\u001b[0m \u001b[0;36m17.5\u001b[0m\u001b[0;34m,\u001b[0m\u001b[0;34m\u001b[0m\u001b[0;34m\u001b[0m\u001b[0m\n\u001b[0;32m----> 7\u001b[0;31m                                 17.0, 17.8, 18.4, 18.3, 17.8, 17.7, 17.3, 18.0, 19.5])\n\u001b[0m\u001b[1;32m      8\u001b[0m assert(avl_expected_heights == [0.0, 3.0, 4.1, 5.0, 5.4, 6.0, 6.0, 6.1, 6.8, 6.9, 7.0, 7.0, \n\u001b[1;32m      9\u001b[0m                                 \u001b[0;36m7.3\u001b[0m\u001b[0;34m,\u001b[0m \u001b[0;36m7.3\u001b[0m\u001b[0;34m,\u001b[0m \u001b[0;36m7.5\u001b[0m\u001b[0;34m,\u001b[0m \u001b[0;36m8.0\u001b[0m\u001b[0;34m,\u001b[0m \u001b[0;36m8.0\u001b[0m\u001b[0;34m,\u001b[0m \u001b[0;36m8.0\u001b[0m\u001b[0;34m,\u001b[0m \u001b[0;36m8.0\u001b[0m\u001b[0;34m,\u001b[0m \u001b[0;36m8.0\u001b[0m\u001b[0;34m,\u001b[0m \u001b[0;36m8.0\u001b[0m\u001b[0;34m,\u001b[0m \u001b[0;36m8.2\u001b[0m\u001b[0;34m,\u001b[0m \u001b[0;36m8.2\u001b[0m\u001b[0;34m,\u001b[0m \u001b[0;36m8.0\u001b[0m\u001b[0;34m,\u001b[0m\u001b[0;34m\u001b[0m\u001b[0;34m\u001b[0m\u001b[0m\n",
      "\u001b[0;31mAssertionError\u001b[0m: "
     ]
    }
   ],
   "source": [
    "bst_expected_heights, avl_expected_heights = get_expected_height_stats(10)\n",
    "\n",
    "assert(bst_expected_heights == [0.0, 5.3, 6.8, 7.8, 9.9, 10.2, 9.9, 11.2, 12.0, 12.2, 12.3, \n",
    "                                12.2, 12.1, 13.4, 13.2, 13.0, 14.3, 14.7, 13.8, 14.1, 14.5, \n",
    "                                15.5, 14.9, 16.0, 16.1, 16.2, 15.4, 17.5, 16.7, 16.1, 16.4, \n",
    "                                17.4, 16.1, 17.3, 16.8, 16.2, 16.7, 17.5, 17.1, 18.4, 17.5, \n",
    "                                17.0, 17.8, 18.4, 18.3, 17.8, 17.7, 17.3, 18.0, 19.5])\n",
    "assert(avl_expected_heights == [0.0, 3.0, 4.1, 5.0, 5.4, 6.0, 6.0, 6.1, 6.8, 6.9, 7.0, 7.0, \n",
    "                                7.3, 7.3, 7.5, 8.0, 8.0, 8.0, 8.0, 8.0, 8.0, 8.2, 8.2, 8.0, \n",
    "                                8.4, 8.5, 8.7, 8.8, 8.9, 8.8, 8.9, 9.0, 9.0, 9.0, 9.0, 9.0, \n",
    "                                9.0, 9.0, 9.3, 9.1, 9.1, 9.3, 9.3, 9.7, 9.5, 9.6, 9.8, 9.8, \n",
    "                                9.9, 9.8])\n"
   ]
  },
  {
   "cell_type": "markdown",
   "metadata": {
    "deletable": false,
    "editable": false,
    "nbgrader": {
     "checksum": "9c5e80c043dfcf6a468da6103b588233",
     "grade": false,
     "grade_id": "cell-929bd013372e6130",
     "locked": true,
     "schema_version": 1,
     "solution": false
    }
   },
   "source": [
    "If you have done everything correctly, running the following code will produce a plot that compares the expected heights of BST and AVL tree. "
   ]
  },
  {
   "cell_type": "code",
   "execution_count": 11,
   "metadata": {},
   "outputs": [
    {
     "data": {
      "text/plain": [
       "<matplotlib.legend.Legend at 0x1196adfd0>"
      ]
     },
     "execution_count": 11,
     "metadata": {},
     "output_type": "execute_result"
    },
    {
     "data": {
      "image/png": "[encoded data removed]",
      "text/plain": [
       "<Figure size 432x288 with 1 Axes>"
      ]
     },
     "metadata": {
      "needs_background": "light"
     },
     "output_type": "display_data"
    }
   ],
   "source": [
    "bst_expected_heights, avl_expected_heights = get_expected_height_stats(10)\n",
    "\n",
    "plt.plot(range(1,500,10), bst_expected_heights, color = 'red',label = 'BST', linewidth = 1.0)\n",
    "plt.plot(range(1,500,10), avl_expected_heights, color = 'blue',label = 'AVL', linewidth = 1.0)\n",
    "plt.xlabel('$N$', fontsize=10)\n",
    "plt.ylabel('Expected height', fontsize=10)\n",
    "plt.legend()"
   ]
  },
  {
   "cell_type": "code",
   "execution_count": 9,
   "metadata": {},
   "outputs": [],
   "source": [
    "bst_expected_heights,avl_expected_heights = get_expected_height_stats(10)"
   ]
  },
  {
   "cell_type": "code",
   "execution_count": 10,
   "metadata": {},
   "outputs": [
    {
     "name": "stdout",
     "output_type": "stream",
     "text": [
      "[0.0, 5.3, 7.1, 7.7, 8.5, 10.1, 11.2, 11.7, 10.9, 11.3, 11.5, 12.0, 12.4, 12.7, 13.8, 13.0, 14.4, 14.1, 14.4, 15.4, 15.0, 15.3, 15.3, 14.5, 15.5, 16.2, 15.3, 16.3, 16.5, 16.7, 17.2, 17.1, 15.7, 16.8, 17.0, 16.5, 17.1, 16.4, 17.8, 17.7, 17.7, 16.9, 16.5, 17.6, 18.6, 17.5, 17.5, 17.8, 17.7, 19.2] [0.0, 3.0, 4.0, 5.0, 5.2, 5.8, 6.0, 6.0, 6.8, 7.0, 7.0, 7.0, 7.1, 7.5, 7.4, 7.8, 8.0, 8.0, 8.0, 8.0, 8.1, 8.2, 8.2, 8.1, 8.5, 8.4, 8.8, 8.8, 8.8, 8.9, 9.0, 9.0, 9.0, 9.0, 9.0, 9.0, 9.0, 9.1, 9.3, 9.1, 9.1, 9.0, 9.3, 9.7, 9.6, 9.7, 9.6, 9.6, 9.6, 9.7]\n"
     ]
    }
   ],
   "source": [
    "print(bst_expected_heights,avl_expected_heights )"
   ]
  },
  {
   "cell_type": "code",
   "execution_count": null,
   "metadata": {},
   "outputs": [],
   "source": [
    "b = AVLNode(4)\n",
    "a = AVLNode(6)\n",
    "c = AVLNode(3)\n",
    "d = AVLNode(2)\n",
    "e = AVLNode(1)\n",
    "b.insert(a)\n",
    "b.insert(c)\n",
    "b.insert(d)\n",
    "b.insert(e)\n",
    "for i in [a,b,c,d,e]:\n",
    "    print(height(i))"
   ]
  },
  {
   "cell_type": "code",
   "execution_count": null,
   "metadata": {},
   "outputs": [],
   "source": [
    "a = AVLNode(10)\n",
    "b = AVLNode(8)\n",
    "c = AVLNode(20)\n",
    "d = AVLNode(3)\n",
    "e = AVLNode(2)\n",
    "\n",
    "a.insert(b)\n",
    "a.insert(c)\n",
    "a.insert(d)\n",
    "\n",
    "for i in [a,b,c,d]:\n",
    "    print(height(i))\n",
    "\n",
    "a.insert(e)\n",
    "\n",
    "for i in [a,b,c,d,e]:\n",
    "    print(height(i))"
   ]
  },
  {
   "cell_type": "code",
   "execution_count": null,
   "metadata": {},
   "outputs": [],
   "source": []
  }
 ],
 "metadata": {
  "kernelspec": {
   "display_name": "Python 3",
   "language": "python",
   "name": "python3"
  },
  "language_info": {
   "codemirror_mode": {
    "name": "ipython",
    "version": 3
   },
   "file_extension": ".py",
   "mimetype": "text/x-python",
   "name": "python",
   "nbconvert_exporter": "python",
   "pygments_lexer": "ipython3",
   "version": "3.7.4"
  }
 },
 "nbformat": 4,
 "nbformat_minor": 4
}
